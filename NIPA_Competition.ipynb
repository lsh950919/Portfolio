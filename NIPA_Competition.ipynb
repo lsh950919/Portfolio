{
  "nbformat": 4,
  "nbformat_minor": 0,
  "metadata": {
    "colab": {
      "name": "NIPA Competition.ipynb",
      "provenance": [],
      "collapsed_sections": [
        "c0G-yNdlxPIh"
      ],
      "include_colab_link": true
    },
    "kernelspec": {
      "name": "python3",
      "display_name": "Python 3"
    },
    "accelerator": "GPU"
  },
  "cells": [
    {
      "cell_type": "markdown",
      "metadata": {
        "id": "view-in-github",
        "colab_type": "text"
      },
      "source": [
        "<a href=\"https://colab.research.google.com/github/lsh950919/Portfolio/blob/main/NIPA_Competition.ipynb\" target=\"_parent\"><img src=\"https://colab.research.google.com/assets/colab-badge.svg\" alt=\"Open In Colab\"/></a>"
      ]
    },
    {
      "cell_type": "markdown",
      "metadata": {
        "id": "37wYT9FZdOE8"
      },
      "source": [
        "# 2020 인공지능 문제해결 경진대회 예선과제\n",
        "정보통신산업진흥원 (National IT Industry Promotion Agency or NIPA) 에서 주최한 경진대회의 예선 과제에서 사용된 코드입니다.\n",
        "\n",
        "나뭇잎 사진을 학습하여 나뭇잎의 종류와 나뭇잎이 감염된 질병을 분류하는 과제였으며, 16000장의 train셋과 4000장의 test셋이 주어졌고 예측값의 F1 score가 평가 기준이었습니다\n",
        "\n",
        "사용된 모델은 배치 정규화가 포함된 VGG-19 모델이며, 최종 F1 score는 0.995였습니다\n",
        "\n",
        "https://ai-korea.kr/info/contestPost.do"
      ]
    },
    {
      "cell_type": "code",
      "metadata": {
        "id": "pWRLUoBuDBaS",
        "outputId": "f120d650-6362-4d06-a222-8e201667873f",
        "colab": {
          "base_uri": "https://localhost:8080/",
          "height": 35
        }
      },
      "source": [
        "from google.colab import drive\n",
        "drive.mount('/content/drive', force_remount = False)"
      ],
      "execution_count": null,
      "outputs": [
        {
          "output_type": "stream",
          "text": [
            "Drive already mounted at /content/drive; to attempt to forcibly remount, call drive.mount(\"/content/drive\", force_remount=True).\n"
          ],
          "name": "stdout"
        }
      ]
    },
    {
      "cell_type": "code",
      "metadata": {
        "id": "-_LfvcMfFgQF",
        "outputId": "e456e9af-c2e0-434b-b9df-8689728325f6",
        "colab": {
          "base_uri": "https://localhost:8080/",
          "height": 35
        }
      },
      "source": [
        "%cd /content/drive/My Drive/Colab Notebooks/NIPA Competition"
      ],
      "execution_count": null,
      "outputs": [
        {
          "output_type": "stream",
          "text": [
            "/content/drive/My Drive/Colab Notebooks/NIPA Competition\n"
          ],
          "name": "stdout"
        }
      ]
    },
    {
      "cell_type": "code",
      "metadata": {
        "id": "CgYgVLfThv50"
      },
      "source": [
        "# !pip install cloud-tpu-client==0.10 https://storage.googleapis.com/tpu-pytorch/wheels/torch_xla-1.6-cp36-cp36m-linux_x86_64.whl"
      ],
      "execution_count": null,
      "outputs": []
    },
    {
      "cell_type": "code",
      "metadata": {
        "id": "hCCGr11YFTec"
      },
      "source": [
        "import pandas as pd\n",
        "import numpy as np\n",
        "import os\n",
        "import torch\n",
        "from torch.utils.data import Dataset\n",
        "from torch.utils.data import DataLoader\n",
        "import torch.nn as nn\n",
        "import torch.nn.functional as F\n",
        "import torchvision\n",
        "import torchvision.transforms as T\n",
        "from PIL import Image\n",
        "import random"
      ],
      "execution_count": null,
      "outputs": []
    },
    {
      "cell_type": "code",
      "metadata": {
        "id": "oPBIeFzv2oPi",
        "outputId": "b880f8d0-dd6b-40e4-b413-59525c0fa71c",
        "colab": {
          "base_uri": "https://localhost:8080/",
          "height": 191
        }
      },
      "source": [
        "train_tsv = pd.read_csv('train/train.tsv', sep = '\\t', header = None, names = ['파일', '종', '병'])\n",
        "train_tsv.info()"
      ],
      "execution_count": null,
      "outputs": [
        {
          "output_type": "stream",
          "text": [
            "<class 'pandas.core.frame.DataFrame'>\n",
            "RangeIndex: 16000 entries, 0 to 15999\n",
            "Data columns (total 3 columns):\n",
            " #   Column  Non-Null Count  Dtype \n",
            "---  ------  --------------  ----- \n",
            " 0   파일      16000 non-null  object\n",
            " 1   종       16000 non-null  int64 \n",
            " 2   병       16000 non-null  int64 \n",
            "dtypes: int64(2), object(1)\n",
            "memory usage: 375.1+ KB\n"
          ],
          "name": "stdout"
        }
      ]
    },
    {
      "cell_type": "code",
      "metadata": {
        "id": "dhmPuobbB6ih"
      },
      "source": [
        "train_tsv['종병'] = train_tsv['종'].astype(str) + '_' + train_tsv['병'].astype(str)"
      ],
      "execution_count": null,
      "outputs": []
    },
    {
      "cell_type": "code",
      "metadata": {
        "id": "juizhqJ4ILC7",
        "outputId": "3a930161-37a8-4970-daa6-3d75c8aace1e",
        "colab": {
          "base_uri": "https://localhost:8080/",
          "height": 364
        }
      },
      "source": [
        "test_label = dict(zip(train_tsv['종병'].unique(), range(0, 20)))\n",
        "test_label"
      ],
      "execution_count": null,
      "outputs": [
        {
          "output_type": "execute_result",
          "data": {
            "text/plain": [
              "{'10_20': 10,\n",
              " '11_14': 11,\n",
              " '13_1': 12,\n",
              " '13_15': 15,\n",
              " '13_16': 16,\n",
              " '13_17': 17,\n",
              " '13_18': 18,\n",
              " '13_20': 19,\n",
              " '13_6': 13,\n",
              " '13_9': 14,\n",
              " '3_20': 1,\n",
              " '3_5': 0,\n",
              " '4_11': 4,\n",
              " '4_2': 2,\n",
              " '4_7': 3,\n",
              " '5_8': 5,\n",
              " '7_1': 6,\n",
              " '7_20': 7,\n",
              " '8_6': 8,\n",
              " '8_9': 9}"
            ]
          },
          "metadata": {
            "tags": []
          },
          "execution_count": 9
        }
      ]
    },
    {
      "cell_type": "code",
      "metadata": {
        "id": "w6xM4ZT1AMoX"
      },
      "source": [
        "unique_label = dict(zip(train_tsv['종병'].unique(), range(0, 20)))\n",
        "train_tsv['라벨'] = train_tsv['종병'].map(unique_label)"
      ],
      "execution_count": null,
      "outputs": []
    },
    {
      "cell_type": "code",
      "metadata": {
        "id": "qsHS3x36RZ2-",
        "outputId": "5c5d51c2-bcb1-41e9-c407-89f50386714f",
        "colab": {
          "base_uri": "https://localhost:8080/",
          "height": 55
        }
      },
      "source": [
        "print(unique_label)"
      ],
      "execution_count": null,
      "outputs": [
        {
          "output_type": "stream",
          "text": [
            "{'3_5': 0, '3_20': 1, '4_2': 2, '4_7': 3, '4_11': 4, '5_8': 5, '7_1': 6, '7_20': 7, '8_6': 8, '8_9': 9, '10_20': 10, '11_14': 11, '13_1': 12, '13_6': 13, '13_9': 14, '13_15': 15, '13_16': 16, '13_17': 17, '13_18': 18, '13_20': 19}\n"
          ],
          "name": "stdout"
        }
      ]
    },
    {
      "cell_type": "markdown",
      "metadata": {
        "id": "vJkufkg0wt2A"
      },
      "source": [
        "# Image Data Cleaning"
      ]
    },
    {
      "cell_type": "code",
      "metadata": {
        "id": "-vXgGA5tC6Gl"
      },
      "source": [
        "class LeafDataset(Dataset):\n",
        "  def __init__(self, file_dir, transform, dataframe = None):\n",
        "    self.file_dir = file_dir\n",
        "    self.transform = transform\n",
        "    if self.file_dir == 'train':\n",
        "      self.labels = dict(zip(dataframe['종병'].unique(), range(0, 20))) # dictionary of unique labels\n",
        "    self.dataset = []\n",
        "    self.preprocess()\n",
        "\n",
        "  def preprocess(self):\n",
        "    file_list = os.listdir(self.file_dir)\n",
        "    \n",
        "    if self.file_dir == 'train':\n",
        "      file_list.remove('train.tsv')\n",
        "    elif self.file_dir == 'test':\n",
        "      file_list.remove('test.tsv')\n",
        "    print(file_list)\n",
        "\n",
        "    for name in file_list:\n",
        "      data = os.path.join(self.file_dir, name)\n",
        "      \n",
        "      if self.file_dir == 'train':\n",
        "        classifier = name.split('_')[0] + '_' + name.split('_')[1]\n",
        "        label = self.labels[classifier]\n",
        "        self.dataset.append([data, label])\n",
        "      \n",
        "      elif self.file_dir == 'test':\n",
        "        self.dataset.append(data)\n",
        "    \n",
        "    print(f'{self.file_dir} processing finished')\n",
        "\n",
        "  def __getitem__(self, idx):\n",
        "    if self.file_dir == 'train':\n",
        "      filename, label = self.dataset[idx]\n",
        "      image = Image.open(filename)\n",
        "      image = self.transform(image)\n",
        "      return image, label\n",
        "    \n",
        "    elif self.file_dir == 'test':\n",
        "      filename = self.dataset[idx]\n",
        "      image = Image.open(filename)\n",
        "      image = self.transform(image)\n",
        "      return image, filename\n",
        "\n",
        "  def __len__(self):\n",
        "    return len(self.dataset)"
      ],
      "execution_count": null,
      "outputs": []
    },
    {
      "cell_type": "code",
      "metadata": {
        "id": "9PLRqBybcu3V"
      },
      "source": [
        "transform_train = T.Compose([# T.RandomCrop(size = 256, padding = 32),\n",
        "                             T.RandomHorizontalFlip(), \n",
        "                             T.RandomVerticalFlip(),\n",
        "                             T.ToTensor(),]) \n",
        "                            #  T.Normalize(mean = (0.46340314, 0.48881906, 0.40603018), std = (0.2039205 , 0.18547723, 0.21734475))])\n",
        "transform_test = T.Compose([T.ToTensor(),]) \n",
        "                            # T.Normalize(mean = (0.46340314, 0.48881906, 0.40603018), std = (0.2039205 , 0.18547723, 0.21734475))])"
      ],
      "execution_count": null,
      "outputs": []
    },
    {
      "cell_type": "markdown",
      "metadata": {
        "id": "OdbusQLmeCgL"
      },
      "source": [
        "Image Augmentation 과정에서 이미 데이터가 0-1의 값으로 조정이 되어 추가적인 정규화를 진행하지 않았습니다"
      ]
    },
    {
      "cell_type": "code",
      "metadata": {
        "id": "Di2ZNDt9C6bC"
      },
      "source": [
        "train_dataset = LeafDataset('train', transform = transform_train, dataframe = train_tsv)\n",
        "\n",
        "from torch.utils.data import random_split\n",
        "train_dataset, val_dataset = random_split(train_dataset, [13000, 3000])\n",
        "train_loader = DataLoader(train_dataset, batch_size = 64, shuffle = True, num_workers = 8, )\n",
        "val_loader = DataLoader(val_dataset, batch_size = 64, shuffle = False, num_workers = 8)\n",
        "\n",
        "test_dataset = LeafDataset('test', transform = transform_test)\n",
        "test_loader = DataLoader(test_dataset, batch_size = 64, shuffle = False, num_workers = 8)"
      ],
      "execution_count": null,
      "outputs": []
    },
    {
      "cell_type": "code",
      "metadata": {
        "id": "6QcZ8G94xCoj"
      },
      "source": [
        "# batch dimension - [64, 3, 256, 256]\n",
        "for i, data in enumerate(train_loader):\n",
        "  # print(data)\n",
        "  print(data[0].shape)\n",
        "  print(len(data[1]))"
      ],
      "execution_count": null,
      "outputs": []
    },
    {
      "cell_type": "code",
      "metadata": {
        "id": "cL1tPK2Ix4dF"
      },
      "source": [
        "a = []\n",
        "for i, data in enumerate(train_loader):\n",
        "  a.append(np.array(data[1]))"
      ],
      "execution_count": null,
      "outputs": []
    },
    {
      "cell_type": "code",
      "metadata": {
        "id": "uolcQkIjYDhA",
        "outputId": "e18da168-7efa-4278-99ce-634dc6e3dc31",
        "colab": {
          "base_uri": "https://localhost:8080/",
          "height": 104
        }
      },
      "source": [
        "print(len(np.concatenate(a, axis = 0)))\n",
        "np.unique(np.concatenate(a, axis = 0), return_counts = True)"
      ],
      "execution_count": null,
      "outputs": [
        {
          "output_type": "stream",
          "text": [
            "16000\n"
          ],
          "name": "stdout"
        },
        {
          "output_type": "execute_result",
          "data": {
            "text/plain": [
              "(array([ 0,  1,  2,  3,  4,  5,  6,  7,  8,  9, 10, 11, 12, 13, 14, 15, 16,\n",
              "        17, 18, 19]),\n",
              " array([800, 800, 800, 800, 800, 800, 800, 800, 800, 800, 800, 800, 800,\n",
              "        800, 800, 800, 800, 800, 800, 800]))"
            ]
          },
          "metadata": {
            "tags": []
          },
          "execution_count": 13
        }
      ]
    },
    {
      "cell_type": "markdown",
      "metadata": {
        "id": "c0G-yNdlxPIh"
      },
      "source": [
        "## Side note: Calculating Normalization Parameters"
      ]
    },
    {
      "cell_type": "code",
      "metadata": {
        "id": "RB_hjr01C6t-",
        "outputId": "8513747a-3ce4-415b-c6dc-44b744b255bb",
        "colab": {
          "base_uri": "https://localhost:8080/",
          "height": 139
        }
      },
      "source": [
        "pop_mean = []\n",
        "pop_std1 = []\n",
        "pop_std2 = []\n",
        "for i, data in enumerate(train_loader, 0):\n",
        "  # print(data[0].shape) # [batch = 256, dimension = 3, 256x256 image]\n",
        "  if i % 10 == 0:\n",
        "    print(f'{i} Step Processing')\n",
        "  numpy_image = data[0].numpy()\n",
        "  batch_mean = np.mean(numpy_image, axis = (0, 2, 3))\n",
        "  batch_std1 = np.std(numpy_image, axis = (0, 2, 3))\n",
        "  batch_std2 = np.std(numpy_image, axis = (0, 2, 3), ddof = 1)\n",
        "  \n",
        "  pop_mean.append(batch_mean)\n",
        "  pop_std1.append(batch_std1)\n",
        "  pop_std2.append(batch_std2)\n",
        "\n",
        "pop_mean = np.array(pop_mean).mean(axis = 0)\n",
        "pop_std1 = np.array(pop_std1).mean(axis = 0)\n",
        "pop_std2 = np.array(pop_std2).mean(axis = 0)"
      ],
      "execution_count": null,
      "outputs": [
        {
          "output_type": "stream",
          "text": [
            "0 Step Processing\n",
            "10 Step Processing\n",
            "20 Step Processing\n",
            "30 Step Processing\n",
            "40 Step Processing\n",
            "50 Step Processing\n",
            "60 Step Processing\n"
          ],
          "name": "stdout"
        }
      ]
    },
    {
      "cell_type": "code",
      "metadata": {
        "id": "1UFC5r6gC6__",
        "outputId": "9aff9d14-dabb-4585-b71f-8f0de32b73cc",
        "colab": {
          "base_uri": "https://localhost:8080/",
          "height": 69
        }
      },
      "source": [
        "pop_mean, pop_std1, pop_std2"
      ],
      "execution_count": null,
      "outputs": [
        {
          "output_type": "execute_result",
          "data": {
            "text/plain": [
              "(array([0.4632882 , 0.48873115, 0.4060708 ], dtype=float32),\n",
              " array([0.2038785 , 0.18545303, 0.21732107], dtype=float32),\n",
              " array([0.20387852, 0.18545303, 0.21732107], dtype=float32))"
            ]
          },
          "metadata": {
            "tags": []
          },
          "execution_count": 91
        }
      ]
    },
    {
      "cell_type": "markdown",
      "metadata": {
        "id": "olD9lI-qC7S-"
      },
      "source": [
        "# VGG16"
      ]
    },
    {
      "cell_type": "code",
      "metadata": {
        "id": "fdX2gfhva65a",
        "outputId": "becbf989-9340-48df-ca9f-d9fd15b15b96",
        "colab": {
          "base_uri": "https://localhost:8080/",
          "height": 35
        }
      },
      "source": [
        "# import torch_xla\n",
        "# import torch_xla.core.xla_model as xm\n",
        "# device = xm.xla_device()"
      ],
      "execution_count": null,
      "outputs": [
        {
          "output_type": "stream",
          "text": [
            "WARNING:root:TPU has started up successfully with version pytorch-1.6\n"
          ],
          "name": "stderr"
        }
      ]
    },
    {
      "cell_type": "code",
      "metadata": {
        "id": "b0KFwHsjfwsk",
        "outputId": "46f35986-8047-4690-fbf9-012355f13966",
        "colab": {
          "base_uri": "https://localhost:8080/",
          "height": 35
        }
      },
      "source": [
        "# device"
      ],
      "execution_count": null,
      "outputs": [
        {
          "output_type": "execute_result",
          "data": {
            "text/plain": [
              "device(type='xla', index=1)"
            ]
          },
          "metadata": {
            "tags": []
          },
          "execution_count": 12
        }
      ]
    },
    {
      "cell_type": "code",
      "metadata": {
        "id": "-6bRsAPSGJ57"
      },
      "source": [
        "device = torch.device('cuda:0' if torch.cuda.is_available() else 'cpu')\n",
        "learning_rate = 0.0001\n",
        "num_epochs = 200\n",
        "best_acc = 0\n",
        "model = torchvision.models.vgg19_bn().to(device)\n",
        "# model.to(device)\n",
        "\n",
        "criterion = nn.CrossEntropyLoss()\n",
        "criterion = criterion.to(device)\n",
        "optimizer = torch.optim.Adam(model.parameters(), lr=learning_rate)\n",
        "# scheduler = torch.optim.lr_scheduler.MultiStepLR(optimizer = optimizer, milestones = [33, 67], gamma = 0.1)\n",
        "scheduler = torch.optim.lr_scheduler.ReduceLROnPlateau(optimizer = optimizer, mode = 'min', factor = 0.1, patience = 5, verbose = True)\n",
        "\n",
        "total_loss = [] # list to keep record of loss for each epoch\n",
        "predictions = {}\n",
        "# Train the model\n",
        "total_step = len(train_loader)\n",
        "for epoch in range(num_epochs): # repeat for number of epochs\n",
        "    model.train() # train model\n",
        "    # print(optimizer)\n",
        "    for i, batch in enumerate(train_loader): # for each image in train set\n",
        "        images, labels = batch[0], batch[1] # assign image torch to images and the label of the image to labels\n",
        "        images = images.to(device)\n",
        "        labels = labels.to(device)\n",
        "        \n",
        "        outputs = model(images)\n",
        "\n",
        "        loss = criterion(outputs, labels) # compare prediction on each train image with actual label\n",
        "\n",
        "        # Backward and optimize\n",
        "        optimizer.zero_grad()\n",
        "        loss.backward()\n",
        "        optimizer.step()\n",
        "        # xm.optimizer_step(optimizer, barrier=True)\n",
        "\n",
        "        total_loss.append(loss.item())\n",
        "\n",
        "    print(f'Epoch [{epoch + 1}/{num_epochs}], Step [{i + 1}/{total_step}], Loss: {sum(total_loss)/len(total_loss):.4f}')\n",
        "    # scheduler.step() # update learning rate at specific epoch\n",
        "\n",
        "    model.eval()\n",
        "    with torch.no_grad():\n",
        "        total = 0\n",
        "        correct = 0\n",
        "        for i, batch in enumerate(val_loader):\n",
        "            images, labels = batch[0], batch[1]\n",
        "            images = images.to(device)\n",
        "            labels = labels.to(device)\n",
        "            \n",
        "            outputs = model(images)\n",
        "            _, predicted = torch.max(outputs.data, 1)\n",
        "            # predictions[name] = predicted\n",
        "            total += labels.size(0)\n",
        "            correct += (predicted == labels).sum().item()\n",
        "\n",
        "        print(correct, total)\n",
        "        val_acc = 100 * correct / total\n",
        "        print('Test Accuracy of the model on the test images: {} %'.format(val_acc))\n",
        "\n",
        "        if val_acc > best_acc:\n",
        "            best_acc = val_acc\n",
        "            print('save_model!!!')\n",
        "            torch.save(model.state_dict(), 'VGG19.pth')\n",
        "\n",
        "        if epoch % 10 == 0:\n",
        "            print(outputs)\n",
        "            print(predicted)\n",
        "    \n",
        "    # print('save_model!!!')\n",
        "    # torch.save(model.state_dict(), 'VGG19.pth')\n",
        "\n",
        "\n",
        "    scheduler.step(val_acc)"
      ],
      "execution_count": null,
      "outputs": []
    },
    {
      "cell_type": "code",
      "metadata": {
        "id": "NYWKlXAJbFFr"
      },
      "source": [
        "# device = xm.xla_device()\n",
        "device = torch.device('cuda:0' if torch.cuda.is_available() else 'cpu')\n",
        "\n",
        "model = torchvision.models.vgg19_bn()\n",
        "model.load_state_dict(torch.load('VGG19.pth'))\n",
        "model = model.to(device)\n",
        "\n",
        "predictions = {}\n",
        "\n",
        "model.eval()\n",
        "with torch.no_grad():\n",
        "  for i, batch in enumerate(test_loader):\n",
        "      print(i)\n",
        "      images, name = batch[0], batch[1]\n",
        "      images = images.to(device)\n",
        "      \n",
        "      outputs = model(images)\n",
        "      _, predicted = torch.max(outputs.data, 1)\n",
        "\n",
        "      predictions[name] = predicted\n",
        "      print(predictions)"
      ],
      "execution_count": null,
      "outputs": []
    },
    {
      "cell_type": "code",
      "metadata": {
        "id": "w9xynwhe5gUL"
      },
      "source": [
        "df_list = []\n",
        "for key in predictions:\n",
        "  df_list.append(pd.DataFrame([key, list(predictions[key])]).T)"
      ],
      "execution_count": null,
      "outputs": []
    },
    {
      "cell_type": "code",
      "metadata": {
        "id": "ZhPUvwBU-On-"
      },
      "source": [
        "example = pd.concat(df_list, axis = 0, ignore_index = True, join = 'outer')\n",
        "example[0] = example[0].str.replace('test/', '')"
      ],
      "execution_count": null,
      "outputs": []
    },
    {
      "cell_type": "code",
      "metadata": {
        "id": "IQnjYD8H-nco",
        "outputId": "b279f7fc-e9b6-4a37-d6c3-e4d597850311",
        "colab": {
          "base_uri": "https://localhost:8080/",
          "height": 415
        }
      },
      "source": [
        "example[1] = example[1].map(lambda x: x.item())\n",
        "example.sort_values(0)"
      ],
      "execution_count": null,
      "outputs": [
        {
          "output_type": "execute_result",
          "data": {
            "text/html": [
              "<div>\n",
              "<style scoped>\n",
              "    .dataframe tbody tr th:only-of-type {\n",
              "        vertical-align: middle;\n",
              "    }\n",
              "\n",
              "    .dataframe tbody tr th {\n",
              "        vertical-align: top;\n",
              "    }\n",
              "\n",
              "    .dataframe thead th {\n",
              "        text-align: right;\n",
              "    }\n",
              "</style>\n",
              "<table border=\"1\" class=\"dataframe\">\n",
              "  <thead>\n",
              "    <tr style=\"text-align: right;\">\n",
              "      <th></th>\n",
              "      <th>0</th>\n",
              "      <th>1</th>\n",
              "    </tr>\n",
              "  </thead>\n",
              "  <tbody>\n",
              "    <tr>\n",
              "      <th>973</th>\n",
              "      <td>0.jpg</td>\n",
              "      <td>0</td>\n",
              "    </tr>\n",
              "    <tr>\n",
              "      <th>983</th>\n",
              "      <td>1.jpg</td>\n",
              "      <td>1</td>\n",
              "    </tr>\n",
              "    <tr>\n",
              "      <th>992</th>\n",
              "      <td>10.jpg</td>\n",
              "      <td>11</td>\n",
              "    </tr>\n",
              "    <tr>\n",
              "      <th>864</th>\n",
              "      <td>100.jpg</td>\n",
              "      <td>0</td>\n",
              "    </tr>\n",
              "    <tr>\n",
              "      <th>1992</th>\n",
              "      <td>1000.jpg</td>\n",
              "      <td>0</td>\n",
              "    </tr>\n",
              "    <tr>\n",
              "      <th>...</th>\n",
              "      <td>...</td>\n",
              "      <td>...</td>\n",
              "    </tr>\n",
              "    <tr>\n",
              "      <th>12</th>\n",
              "      <td>995.jpg</td>\n",
              "      <td>16</td>\n",
              "    </tr>\n",
              "    <tr>\n",
              "      <th>1974</th>\n",
              "      <td>996.jpg</td>\n",
              "      <td>17</td>\n",
              "    </tr>\n",
              "    <tr>\n",
              "      <th>1978</th>\n",
              "      <td>997.jpg</td>\n",
              "      <td>18</td>\n",
              "    </tr>\n",
              "    <tr>\n",
              "      <th>1980</th>\n",
              "      <td>998.jpg</td>\n",
              "      <td>19</td>\n",
              "    </tr>\n",
              "    <tr>\n",
              "      <th>1964</th>\n",
              "      <td>999.jpg</td>\n",
              "      <td>6</td>\n",
              "    </tr>\n",
              "  </tbody>\n",
              "</table>\n",
              "<p>3997 rows × 2 columns</p>\n",
              "</div>"
            ],
            "text/plain": [
              "             0   1\n",
              "973      0.jpg   0\n",
              "983      1.jpg   1\n",
              "992     10.jpg  11\n",
              "864    100.jpg   0\n",
              "1992  1000.jpg   0\n",
              "...        ...  ..\n",
              "12     995.jpg  16\n",
              "1974   996.jpg  17\n",
              "1978   997.jpg  18\n",
              "1980   998.jpg  19\n",
              "1964   999.jpg   6\n",
              "\n",
              "[3997 rows x 2 columns]"
            ]
          },
          "metadata": {
            "tags": []
          },
          "execution_count": 15
        }
      ]
    },
    {
      "cell_type": "markdown",
      "metadata": {
        "id": "BZMw_ERa5TR_"
      },
      "source": [
        "# Submission"
      ]
    },
    {
      "cell_type": "code",
      "metadata": {
        "id": "w_ErmWEBFeq1"
      },
      "source": [
        "submission = pd.read_csv('test/test.tsv', header = None)"
      ],
      "execution_count": null,
      "outputs": []
    },
    {
      "cell_type": "code",
      "metadata": {
        "id": "QSlkIAm8BrEq",
        "outputId": "ea76b995-82d8-4176-cb0d-eee827523fde",
        "colab": {
          "base_uri": "https://localhost:8080/",
          "height": 415
        }
      },
      "source": [
        "submission"
      ],
      "execution_count": null,
      "outputs": [
        {
          "output_type": "execute_result",
          "data": {
            "text/html": [
              "<div>\n",
              "<style scoped>\n",
              "    .dataframe tbody tr th:only-of-type {\n",
              "        vertical-align: middle;\n",
              "    }\n",
              "\n",
              "    .dataframe tbody tr th {\n",
              "        vertical-align: top;\n",
              "    }\n",
              "\n",
              "    .dataframe thead th {\n",
              "        text-align: right;\n",
              "    }\n",
              "</style>\n",
              "<table border=\"1\" class=\"dataframe\">\n",
              "  <thead>\n",
              "    <tr style=\"text-align: right;\">\n",
              "      <th></th>\n",
              "      <th>0</th>\n",
              "    </tr>\n",
              "  </thead>\n",
              "  <tbody>\n",
              "    <tr>\n",
              "      <th>0</th>\n",
              "      <td>0.jpg</td>\n",
              "    </tr>\n",
              "    <tr>\n",
              "      <th>1</th>\n",
              "      <td>1.jpg</td>\n",
              "    </tr>\n",
              "    <tr>\n",
              "      <th>2</th>\n",
              "      <td>2.jpg</td>\n",
              "    </tr>\n",
              "    <tr>\n",
              "      <th>3</th>\n",
              "      <td>3.jpg</td>\n",
              "    </tr>\n",
              "    <tr>\n",
              "      <th>4</th>\n",
              "      <td>4.jpg</td>\n",
              "    </tr>\n",
              "    <tr>\n",
              "      <th>...</th>\n",
              "      <td>...</td>\n",
              "    </tr>\n",
              "    <tr>\n",
              "      <th>3992</th>\n",
              "      <td>3992.jpg</td>\n",
              "    </tr>\n",
              "    <tr>\n",
              "      <th>3993</th>\n",
              "      <td>3993.jpg</td>\n",
              "    </tr>\n",
              "    <tr>\n",
              "      <th>3994</th>\n",
              "      <td>3994.jpg</td>\n",
              "    </tr>\n",
              "    <tr>\n",
              "      <th>3995</th>\n",
              "      <td>3995.jpg</td>\n",
              "    </tr>\n",
              "    <tr>\n",
              "      <th>3996</th>\n",
              "      <td>3996.jpg</td>\n",
              "    </tr>\n",
              "  </tbody>\n",
              "</table>\n",
              "<p>3997 rows × 1 columns</p>\n",
              "</div>"
            ],
            "text/plain": [
              "             0\n",
              "0        0.jpg\n",
              "1        1.jpg\n",
              "2        2.jpg\n",
              "3        3.jpg\n",
              "4        4.jpg\n",
              "...        ...\n",
              "3992  3992.jpg\n",
              "3993  3993.jpg\n",
              "3994  3994.jpg\n",
              "3995  3995.jpg\n",
              "3996  3996.jpg\n",
              "\n",
              "[3997 rows x 1 columns]"
            ]
          },
          "metadata": {
            "tags": []
          },
          "execution_count": 17
        }
      ]
    },
    {
      "cell_type": "code",
      "metadata": {
        "id": "Oy6JunobHlCs",
        "outputId": "e4bd7929-a362-48f7-8485-e05f39059fed",
        "colab": {
          "base_uri": "https://localhost:8080/",
          "height": 364
        }
      },
      "source": [
        "reverse_label = {}\n",
        "for key in test_label:\n",
        "  reverse_label[test_label[key]] = key\n",
        "\n",
        "reverse_label"
      ],
      "execution_count": null,
      "outputs": [
        {
          "output_type": "execute_result",
          "data": {
            "text/plain": [
              "{0: '3_5',\n",
              " 1: '3_20',\n",
              " 2: '4_2',\n",
              " 3: '4_7',\n",
              " 4: '4_11',\n",
              " 5: '5_8',\n",
              " 6: '7_1',\n",
              " 7: '7_20',\n",
              " 8: '8_6',\n",
              " 9: '8_9',\n",
              " 10: '10_20',\n",
              " 11: '11_14',\n",
              " 12: '13_1',\n",
              " 13: '13_6',\n",
              " 14: '13_9',\n",
              " 15: '13_15',\n",
              " 16: '13_16',\n",
              " 17: '13_17',\n",
              " 18: '13_18',\n",
              " 19: '13_20'}"
            ]
          },
          "metadata": {
            "tags": []
          },
          "execution_count": 18
        }
      ]
    },
    {
      "cell_type": "code",
      "metadata": {
        "id": "FjK8qCIZ5a5l",
        "outputId": "3682b994-bec7-48df-fc3e-eef74187df46",
        "colab": {
          "base_uri": "https://localhost:8080/",
          "height": 415
        }
      },
      "source": [
        "new_submission = submission.merge(example, how = 'outer', copy = True)\n",
        "new_submission[1] = new_submission[1].map(reverse_label)\n",
        "new_submission['leaf'] = new_submission[1].map(lambda x: x.split('_')[0])\n",
        "new_submission['disease'] = new_submission[1].map(lambda x: x.split('_')[1])\n",
        "new_submission = new_submission.drop(1, axis = 1)\n",
        "new_submission"
      ],
      "execution_count": null,
      "outputs": [
        {
          "output_type": "execute_result",
          "data": {
            "text/html": [
              "<div>\n",
              "<style scoped>\n",
              "    .dataframe tbody tr th:only-of-type {\n",
              "        vertical-align: middle;\n",
              "    }\n",
              "\n",
              "    .dataframe tbody tr th {\n",
              "        vertical-align: top;\n",
              "    }\n",
              "\n",
              "    .dataframe thead th {\n",
              "        text-align: right;\n",
              "    }\n",
              "</style>\n",
              "<table border=\"1\" class=\"dataframe\">\n",
              "  <thead>\n",
              "    <tr style=\"text-align: right;\">\n",
              "      <th></th>\n",
              "      <th>0</th>\n",
              "      <th>leaf</th>\n",
              "      <th>disease</th>\n",
              "    </tr>\n",
              "  </thead>\n",
              "  <tbody>\n",
              "    <tr>\n",
              "      <th>0</th>\n",
              "      <td>0.jpg</td>\n",
              "      <td>3</td>\n",
              "      <td>5</td>\n",
              "    </tr>\n",
              "    <tr>\n",
              "      <th>1</th>\n",
              "      <td>1.jpg</td>\n",
              "      <td>3</td>\n",
              "      <td>20</td>\n",
              "    </tr>\n",
              "    <tr>\n",
              "      <th>2</th>\n",
              "      <td>2.jpg</td>\n",
              "      <td>4</td>\n",
              "      <td>2</td>\n",
              "    </tr>\n",
              "    <tr>\n",
              "      <th>3</th>\n",
              "      <td>3.jpg</td>\n",
              "      <td>4</td>\n",
              "      <td>7</td>\n",
              "    </tr>\n",
              "    <tr>\n",
              "      <th>4</th>\n",
              "      <td>4.jpg</td>\n",
              "      <td>4</td>\n",
              "      <td>11</td>\n",
              "    </tr>\n",
              "    <tr>\n",
              "      <th>...</th>\n",
              "      <td>...</td>\n",
              "      <td>...</td>\n",
              "      <td>...</td>\n",
              "    </tr>\n",
              "    <tr>\n",
              "      <th>3992</th>\n",
              "      <td>3992.jpg</td>\n",
              "      <td>13</td>\n",
              "      <td>15</td>\n",
              "    </tr>\n",
              "    <tr>\n",
              "      <th>3993</th>\n",
              "      <td>3993.jpg</td>\n",
              "      <td>13</td>\n",
              "      <td>16</td>\n",
              "    </tr>\n",
              "    <tr>\n",
              "      <th>3994</th>\n",
              "      <td>3994.jpg</td>\n",
              "      <td>13</td>\n",
              "      <td>17</td>\n",
              "    </tr>\n",
              "    <tr>\n",
              "      <th>3995</th>\n",
              "      <td>3995.jpg</td>\n",
              "      <td>13</td>\n",
              "      <td>18</td>\n",
              "    </tr>\n",
              "    <tr>\n",
              "      <th>3996</th>\n",
              "      <td>3996.jpg</td>\n",
              "      <td>13</td>\n",
              "      <td>20</td>\n",
              "    </tr>\n",
              "  </tbody>\n",
              "</table>\n",
              "<p>3997 rows × 3 columns</p>\n",
              "</div>"
            ],
            "text/plain": [
              "             0 leaf disease\n",
              "0        0.jpg    3       5\n",
              "1        1.jpg    3      20\n",
              "2        2.jpg    4       2\n",
              "3        3.jpg    4       7\n",
              "4        4.jpg    4      11\n",
              "...        ...  ...     ...\n",
              "3992  3992.jpg   13      15\n",
              "3993  3993.jpg   13      16\n",
              "3994  3994.jpg   13      17\n",
              "3995  3995.jpg   13      18\n",
              "3996  3996.jpg   13      20\n",
              "\n",
              "[3997 rows x 3 columns]"
            ]
          },
          "metadata": {
            "tags": []
          },
          "execution_count": 19
        }
      ]
    },
    {
      "cell_type": "code",
      "metadata": {
        "id": "JUSdO6cfFqx6"
      },
      "source": [
        "new_submission.to_csv('new_submission_.tsv', sep = '\\t', index = False, header = False)"
      ],
      "execution_count": null,
      "outputs": []
    },
    {
      "cell_type": "code",
      "metadata": {
        "id": "uZu55dA25BTb",
        "outputId": "0bdfc4e7-ce1d-4298-83c6-e02ad6b17d8a",
        "colab": {
          "base_uri": "https://localhost:8080/",
          "height": 415
        }
      },
      "source": [
        "pd.read_csv('new_submission.tsv', sep = '\\t', header = None)"
      ],
      "execution_count": null,
      "outputs": [
        {
          "output_type": "execute_result",
          "data": {
            "text/html": [
              "<div>\n",
              "<style scoped>\n",
              "    .dataframe tbody tr th:only-of-type {\n",
              "        vertical-align: middle;\n",
              "    }\n",
              "\n",
              "    .dataframe tbody tr th {\n",
              "        vertical-align: top;\n",
              "    }\n",
              "\n",
              "    .dataframe thead th {\n",
              "        text-align: right;\n",
              "    }\n",
              "</style>\n",
              "<table border=\"1\" class=\"dataframe\">\n",
              "  <thead>\n",
              "    <tr style=\"text-align: right;\">\n",
              "      <th></th>\n",
              "      <th>0</th>\n",
              "      <th>1</th>\n",
              "      <th>2</th>\n",
              "    </tr>\n",
              "  </thead>\n",
              "  <tbody>\n",
              "    <tr>\n",
              "      <th>0</th>\n",
              "      <td>0.jpg</td>\n",
              "      <td>3</td>\n",
              "      <td>5</td>\n",
              "    </tr>\n",
              "    <tr>\n",
              "      <th>1</th>\n",
              "      <td>1.jpg</td>\n",
              "      <td>3</td>\n",
              "      <td>20</td>\n",
              "    </tr>\n",
              "    <tr>\n",
              "      <th>2</th>\n",
              "      <td>2.jpg</td>\n",
              "      <td>4</td>\n",
              "      <td>11</td>\n",
              "    </tr>\n",
              "    <tr>\n",
              "      <th>3</th>\n",
              "      <td>3.jpg</td>\n",
              "      <td>4</td>\n",
              "      <td>7</td>\n",
              "    </tr>\n",
              "    <tr>\n",
              "      <th>4</th>\n",
              "      <td>4.jpg</td>\n",
              "      <td>4</td>\n",
              "      <td>11</td>\n",
              "    </tr>\n",
              "    <tr>\n",
              "      <th>...</th>\n",
              "      <td>...</td>\n",
              "      <td>...</td>\n",
              "      <td>...</td>\n",
              "    </tr>\n",
              "    <tr>\n",
              "      <th>3992</th>\n",
              "      <td>3992.jpg</td>\n",
              "      <td>13</td>\n",
              "      <td>9</td>\n",
              "    </tr>\n",
              "    <tr>\n",
              "      <th>3993</th>\n",
              "      <td>3993.jpg</td>\n",
              "      <td>13</td>\n",
              "      <td>16</td>\n",
              "    </tr>\n",
              "    <tr>\n",
              "      <th>3994</th>\n",
              "      <td>3994.jpg</td>\n",
              "      <td>13</td>\n",
              "      <td>17</td>\n",
              "    </tr>\n",
              "    <tr>\n",
              "      <th>3995</th>\n",
              "      <td>3995.jpg</td>\n",
              "      <td>13</td>\n",
              "      <td>18</td>\n",
              "    </tr>\n",
              "    <tr>\n",
              "      <th>3996</th>\n",
              "      <td>3996.jpg</td>\n",
              "      <td>13</td>\n",
              "      <td>20</td>\n",
              "    </tr>\n",
              "  </tbody>\n",
              "</table>\n",
              "<p>3997 rows × 3 columns</p>\n",
              "</div>"
            ],
            "text/plain": [
              "             0   1   2\n",
              "0        0.jpg   3   5\n",
              "1        1.jpg   3  20\n",
              "2        2.jpg   4  11\n",
              "3        3.jpg   4   7\n",
              "4        4.jpg   4  11\n",
              "...        ...  ..  ..\n",
              "3992  3992.jpg  13   9\n",
              "3993  3993.jpg  13  16\n",
              "3994  3994.jpg  13  17\n",
              "3995  3995.jpg  13  18\n",
              "3996  3996.jpg  13  20\n",
              "\n",
              "[3997 rows x 3 columns]"
            ]
          },
          "metadata": {
            "tags": []
          },
          "execution_count": 84
        }
      ]
    },
    {
      "cell_type": "code",
      "metadata": {
        "id": "jWlHuNdF-Qv9"
      },
      "source": [
        ""
      ],
      "execution_count": null,
      "outputs": []
    }
  ]
}