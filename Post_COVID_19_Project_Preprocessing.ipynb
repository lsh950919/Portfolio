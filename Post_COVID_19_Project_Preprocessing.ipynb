{
  "nbformat": 4,
  "nbformat_minor": 0,
  "metadata": {
    "colab": {
      "name": "Post COVID-19 Project Preprocessing.ipynb",
      "provenance": [],
      "collapsed_sections": [],
      "include_colab_link": true
    },
    "kernelspec": {
      "name": "python3",
      "display_name": "Python 3"
    }
  },
  "cells": [
    {
      "cell_type": "markdown",
      "metadata": {
        "id": "view-in-github",
        "colab_type": "text"
      },
      "source": [
        "<a href=\"https://colab.research.google.com/github/lsh950919/Portfolio/blob/main/Post_COVID_19_Project_Preprocessing.ipynb\" target=\"_parent\"><img src=\"https://colab.research.google.com/assets/colab-badge.svg\" alt=\"Open In Colab\"/></a>"
      ]
    },
    {
      "cell_type": "code",
      "metadata": {
        "id": "3ZMyH6G2CCML",
        "outputId": "82675492-0844-410f-e0be-1e46f7464dca",
        "colab": {
          "base_uri": "https://localhost:8080/",
          "height": 35
        }
      },
      "source": [
        "from google.colab import drive\n",
        "drive.mount('/content/drive', force_remount = False)"
      ],
      "execution_count": null,
      "outputs": [
        {
          "output_type": "stream",
          "text": [
            "Mounted at /content/drive\n"
          ],
          "name": "stdout"
        }
      ]
    },
    {
      "cell_type": "code",
      "metadata": {
        "id": "zKu1bSN8CDX0",
        "outputId": "82aae5b4-1d64-4a41-808c-3b5457731501",
        "colab": {
          "base_uri": "https://localhost:8080/",
          "height": 35
        }
      },
      "source": [
        "%cd /content/drive/My Drive/Colab Notebooks"
      ],
      "execution_count": null,
      "outputs": [
        {
          "output_type": "stream",
          "text": [
            "/content/drive/My Drive/Colab Notebooks\n"
          ],
          "name": "stdout"
        }
      ]
    },
    {
      "cell_type": "code",
      "metadata": {
        "id": "P0R9x3c6CWqL"
      },
      "source": [
        "import pandas as pd"
      ],
      "execution_count": null,
      "outputs": []
    },
    {
      "cell_type": "markdown",
      "metadata": {
        "id": "6hdqSBBkO_EC"
      },
      "source": [
        "# 데이터 불러오기"
      ]
    },
    {
      "cell_type": "code",
      "metadata": {
        "id": "XCfDAOJkElXk"
      },
      "source": [
        "population = pd.read_csv('Project 2 data/fpopl.csv')"
      ],
      "execution_count": null,
      "outputs": []
    },
    {
      "cell_type": "code",
      "metadata": {
        "id": "9M53cILEQWxg"
      },
      "source": [
        "dong_code = pd.read_csv('Project 2 data/adstrd_master.csv')"
      ],
      "execution_count": null,
      "outputs": []
    },
    {
      "cell_type": "code",
      "metadata": {
        "id": "uh81CHRdSQSy"
      },
      "source": [
        "card = pd.read_csv('Project 2 data/card_20200717.csv')"
      ],
      "execution_count": null,
      "outputs": []
    },
    {
      "cell_type": "markdown",
      "metadata": {
        "id": "TR14dgjHPD8O"
      },
      "source": [
        "# 데이터 전처리"
      ]
    },
    {
      "cell_type": "markdown",
      "metadata": {
        "id": "6ZNHei8mPHkt"
      },
      "source": [
        "## 유동인구"
      ]
    },
    {
      "cell_type": "code",
      "metadata": {
        "id": "4tWf3wKZ7nP4",
        "outputId": "733e4c0c-24e6-4181-ae2b-a8c27c78002d",
        "colab": {
          "base_uri": "https://localhost:8080/",
          "height": 202
        }
      },
      "source": [
        "population.head()"
      ],
      "execution_count": null,
      "outputs": [
        {
          "output_type": "execute_result",
          "data": {
            "text/html": [
              "<div>\n",
              "<style scoped>\n",
              "    .dataframe tbody tr th:only-of-type {\n",
              "        vertical-align: middle;\n",
              "    }\n",
              "\n",
              "    .dataframe tbody tr th {\n",
              "        vertical-align: top;\n",
              "    }\n",
              "\n",
              "    .dataframe thead th {\n",
              "        text-align: right;\n",
              "    }\n",
              "</style>\n",
              "<table border=\"1\" class=\"dataframe\">\n",
              "  <thead>\n",
              "    <tr style=\"text-align: right;\">\n",
              "      <th></th>\n",
              "      <th>base_ymd</th>\n",
              "      <th>tmzon_se_code</th>\n",
              "      <th>sexdstn_se_code</th>\n",
              "      <th>agrde_se_code</th>\n",
              "      <th>adstrd_code</th>\n",
              "      <th>popltn_cascnt</th>\n",
              "    </tr>\n",
              "  </thead>\n",
              "  <tbody>\n",
              "    <tr>\n",
              "      <th>0</th>\n",
              "      <td>20200101</td>\n",
              "      <td>0</td>\n",
              "      <td>M</td>\n",
              "      <td>age_00</td>\n",
              "      <td>11650560</td>\n",
              "      <td>15</td>\n",
              "    </tr>\n",
              "    <tr>\n",
              "      <th>1</th>\n",
              "      <td>20200101</td>\n",
              "      <td>0</td>\n",
              "      <td>M</td>\n",
              "      <td>age_00</td>\n",
              "      <td>11590620</td>\n",
              "      <td>6</td>\n",
              "    </tr>\n",
              "    <tr>\n",
              "      <th>2</th>\n",
              "      <td>20200101</td>\n",
              "      <td>0</td>\n",
              "      <td>M</td>\n",
              "      <td>age_00</td>\n",
              "      <td>11560710</td>\n",
              "      <td>4</td>\n",
              "    </tr>\n",
              "    <tr>\n",
              "      <th>3</th>\n",
              "      <td>20200101</td>\n",
              "      <td>0</td>\n",
              "      <td>M</td>\n",
              "      <td>age_00</td>\n",
              "      <td>11470680</td>\n",
              "      <td>12</td>\n",
              "    </tr>\n",
              "    <tr>\n",
              "      <th>4</th>\n",
              "      <td>20200101</td>\n",
              "      <td>0</td>\n",
              "      <td>M</td>\n",
              "      <td>age_00</td>\n",
              "      <td>11350665</td>\n",
              "      <td>6</td>\n",
              "    </tr>\n",
              "  </tbody>\n",
              "</table>\n",
              "</div>"
            ],
            "text/plain": [
              "   base_ymd  tmzon_se_code  ... adstrd_code popltn_cascnt\n",
              "0  20200101              0  ...    11650560            15\n",
              "1  20200101              0  ...    11590620             6\n",
              "2  20200101              0  ...    11560710             4\n",
              "3  20200101              0  ...    11470680            12\n",
              "4  20200101              0  ...    11350665             6\n",
              "\n",
              "[5 rows x 6 columns]"
            ]
          },
          "metadata": {
            "tags": []
          },
          "execution_count": 24
        }
      ]
    },
    {
      "cell_type": "code",
      "metadata": {
        "id": "kLYh9xVkVRzK"
      },
      "source": [
        "# 일별 유동인구로 변환 후 날짜 지정\n",
        "population2 = population.groupby(['base_ymd','sexdstn_se_code','adstrd_code'])['popltn_cascnt'].sum().reset_index()\n",
        "population2 = population2[(population2['base_ymd'] >= 20200104) & (population2['base_ymd'] <= 20200614)]"
      ],
      "execution_count": null,
      "outputs": []
    },
    {
      "cell_type": "code",
      "metadata": {
        "id": "NItMJ4zOV1tm",
        "outputId": "705b7e69-e05d-4607-d46f-85a6bcd91baa",
        "colab": {
          "base_uri": "https://localhost:8080/",
          "height": 202
        }
      },
      "source": [
        "population2.tail()"
      ],
      "execution_count": null,
      "outputs": [
        {
          "output_type": "execute_result",
          "data": {
            "text/html": [
              "<div>\n",
              "<style scoped>\n",
              "    .dataframe tbody tr th:only-of-type {\n",
              "        vertical-align: middle;\n",
              "    }\n",
              "\n",
              "    .dataframe tbody tr th {\n",
              "        vertical-align: top;\n",
              "    }\n",
              "\n",
              "    .dataframe thead th {\n",
              "        text-align: right;\n",
              "    }\n",
              "</style>\n",
              "<table border=\"1\" class=\"dataframe\">\n",
              "  <thead>\n",
              "    <tr style=\"text-align: right;\">\n",
              "      <th></th>\n",
              "      <th>base_ymd</th>\n",
              "      <th>sexdstn_se_code</th>\n",
              "      <th>adstrd_code</th>\n",
              "      <th>popltn_cascnt</th>\n",
              "    </tr>\n",
              "  </thead>\n",
              "  <tbody>\n",
              "    <tr>\n",
              "      <th>141033</th>\n",
              "      <td>20200614</td>\n",
              "      <td>M</td>\n",
              "      <td>11740650</td>\n",
              "      <td>54512</td>\n",
              "    </tr>\n",
              "    <tr>\n",
              "      <th>141034</th>\n",
              "      <td>20200614</td>\n",
              "      <td>M</td>\n",
              "      <td>11740660</td>\n",
              "      <td>88335</td>\n",
              "    </tr>\n",
              "    <tr>\n",
              "      <th>141035</th>\n",
              "      <td>20200614</td>\n",
              "      <td>M</td>\n",
              "      <td>11740685</td>\n",
              "      <td>67273</td>\n",
              "    </tr>\n",
              "    <tr>\n",
              "      <th>141036</th>\n",
              "      <td>20200614</td>\n",
              "      <td>M</td>\n",
              "      <td>11740690</td>\n",
              "      <td>25537</td>\n",
              "    </tr>\n",
              "    <tr>\n",
              "      <th>141037</th>\n",
              "      <td>20200614</td>\n",
              "      <td>M</td>\n",
              "      <td>11740700</td>\n",
              "      <td>61868</td>\n",
              "    </tr>\n",
              "  </tbody>\n",
              "</table>\n",
              "</div>"
            ],
            "text/plain": [
              "        base_ymd sexdstn_se_code  adstrd_code  popltn_cascnt\n",
              "141033  20200614               M     11740650          54512\n",
              "141034  20200614               M     11740660          88335\n",
              "141035  20200614               M     11740685          67273\n",
              "141036  20200614               M     11740690          25537\n",
              "141037  20200614               M     11740700          61868"
            ]
          },
          "metadata": {
            "tags": []
          },
          "execution_count": 26
        }
      ]
    },
    {
      "cell_type": "markdown",
      "metadata": {
        "id": "dsrOW18xPdax"
      },
      "source": [
        "## 행정동 코드"
      ]
    },
    {
      "cell_type": "code",
      "metadata": {
        "id": "xY50zrHdw4kp",
        "outputId": "3fc556c6-851d-4275-dfb8-ad75269ade18",
        "colab": {
          "base_uri": "https://localhost:8080/",
          "height": 202
        }
      },
      "source": [
        "dong_code.head()"
      ],
      "execution_count": null,
      "outputs": [
        {
          "output_type": "execute_result",
          "data": {
            "text/html": [
              "<div>\n",
              "<style scoped>\n",
              "    .dataframe tbody tr th:only-of-type {\n",
              "        vertical-align: middle;\n",
              "    }\n",
              "\n",
              "    .dataframe tbody tr th {\n",
              "        vertical-align: top;\n",
              "    }\n",
              "\n",
              "    .dataframe thead th {\n",
              "        text-align: right;\n",
              "    }\n",
              "</style>\n",
              "<table border=\"1\" class=\"dataframe\">\n",
              "  <thead>\n",
              "    <tr style=\"text-align: right;\">\n",
              "      <th></th>\n",
              "      <th>adstrd_code</th>\n",
              "      <th>adstrd_nm</th>\n",
              "      <th>brtc_nm</th>\n",
              "      <th>signgu_nm</th>\n",
              "    </tr>\n",
              "  </thead>\n",
              "  <tbody>\n",
              "    <tr>\n",
              "      <th>0</th>\n",
              "      <td>11110515.0</td>\n",
              "      <td>청운효자동</td>\n",
              "      <td>서울특별시</td>\n",
              "      <td>종로구</td>\n",
              "    </tr>\n",
              "    <tr>\n",
              "      <th>1</th>\n",
              "      <td>11110530.0</td>\n",
              "      <td>사직동</td>\n",
              "      <td>서울특별시</td>\n",
              "      <td>종로구</td>\n",
              "    </tr>\n",
              "    <tr>\n",
              "      <th>2</th>\n",
              "      <td>11110540.0</td>\n",
              "      <td>삼청동</td>\n",
              "      <td>서울특별시</td>\n",
              "      <td>종로구</td>\n",
              "    </tr>\n",
              "    <tr>\n",
              "      <th>3</th>\n",
              "      <td>11110550.0</td>\n",
              "      <td>부암동</td>\n",
              "      <td>서울특별시</td>\n",
              "      <td>종로구</td>\n",
              "    </tr>\n",
              "    <tr>\n",
              "      <th>4</th>\n",
              "      <td>11110560.0</td>\n",
              "      <td>평창동</td>\n",
              "      <td>서울특별시</td>\n",
              "      <td>종로구</td>\n",
              "    </tr>\n",
              "  </tbody>\n",
              "</table>\n",
              "</div>"
            ],
            "text/plain": [
              "   adstrd_code adstrd_nm brtc_nm signgu_nm\n",
              "0   11110515.0     청운효자동   서울특별시       종로구\n",
              "1   11110530.0       사직동   서울특별시       종로구\n",
              "2   11110540.0       삼청동   서울특별시       종로구\n",
              "3   11110550.0       부암동   서울특별시       종로구\n",
              "4   11110560.0       평창동   서울특별시       종로구"
            ]
          },
          "metadata": {
            "tags": []
          },
          "execution_count": 27
        }
      ]
    },
    {
      "cell_type": "code",
      "metadata": {
        "id": "cTIsLUk5w62N"
      },
      "source": [
        "# 행정동 코드 정수로 변환\n",
        "dong_code['adstrd_code'] = dong_code['adstrd_code'].astype(int)"
      ],
      "execution_count": null,
      "outputs": []
    },
    {
      "cell_type": "code",
      "metadata": {
        "id": "wp59OSmJWJmN",
        "outputId": "fa4e4a0d-f6fa-434e-a943-d94d93ec6217",
        "colab": {
          "base_uri": "https://localhost:8080/",
          "height": 202
        }
      },
      "source": [
        "dong_code.head()"
      ],
      "execution_count": null,
      "outputs": [
        {
          "output_type": "execute_result",
          "data": {
            "text/html": [
              "<div>\n",
              "<style scoped>\n",
              "    .dataframe tbody tr th:only-of-type {\n",
              "        vertical-align: middle;\n",
              "    }\n",
              "\n",
              "    .dataframe tbody tr th {\n",
              "        vertical-align: top;\n",
              "    }\n",
              "\n",
              "    .dataframe thead th {\n",
              "        text-align: right;\n",
              "    }\n",
              "</style>\n",
              "<table border=\"1\" class=\"dataframe\">\n",
              "  <thead>\n",
              "    <tr style=\"text-align: right;\">\n",
              "      <th></th>\n",
              "      <th>adstrd_code</th>\n",
              "      <th>adstrd_nm</th>\n",
              "      <th>brtc_nm</th>\n",
              "      <th>signgu_nm</th>\n",
              "    </tr>\n",
              "  </thead>\n",
              "  <tbody>\n",
              "    <tr>\n",
              "      <th>0</th>\n",
              "      <td>11110515</td>\n",
              "      <td>청운효자동</td>\n",
              "      <td>서울특별시</td>\n",
              "      <td>종로구</td>\n",
              "    </tr>\n",
              "    <tr>\n",
              "      <th>1</th>\n",
              "      <td>11110530</td>\n",
              "      <td>사직동</td>\n",
              "      <td>서울특별시</td>\n",
              "      <td>종로구</td>\n",
              "    </tr>\n",
              "    <tr>\n",
              "      <th>2</th>\n",
              "      <td>11110540</td>\n",
              "      <td>삼청동</td>\n",
              "      <td>서울특별시</td>\n",
              "      <td>종로구</td>\n",
              "    </tr>\n",
              "    <tr>\n",
              "      <th>3</th>\n",
              "      <td>11110550</td>\n",
              "      <td>부암동</td>\n",
              "      <td>서울특별시</td>\n",
              "      <td>종로구</td>\n",
              "    </tr>\n",
              "    <tr>\n",
              "      <th>4</th>\n",
              "      <td>11110560</td>\n",
              "      <td>평창동</td>\n",
              "      <td>서울특별시</td>\n",
              "      <td>종로구</td>\n",
              "    </tr>\n",
              "  </tbody>\n",
              "</table>\n",
              "</div>"
            ],
            "text/plain": [
              "   adstrd_code adstrd_nm brtc_nm signgu_nm\n",
              "0     11110515     청운효자동   서울특별시       종로구\n",
              "1     11110530       사직동   서울특별시       종로구\n",
              "2     11110540       삼청동   서울특별시       종로구\n",
              "3     11110550       부암동   서울특별시       종로구\n",
              "4     11110560       평창동   서울특별시       종로구"
            ]
          },
          "metadata": {
            "tags": []
          },
          "execution_count": 29
        }
      ]
    },
    {
      "cell_type": "code",
      "metadata": {
        "id": "Nf6cKOK1wn9F",
        "outputId": "f067cd84-e328-417b-e662-104e8d06de20",
        "colab": {
          "base_uri": "https://localhost:8080/",
          "height": 410
        }
      },
      "source": [
        "# 서울 행정동 코드 추출\n",
        "region_seoul = dong_code[dong_code['brtc_nm'].str.contains('서울')]\n",
        "print(region_seoul.brtc_nm.unique())\n",
        "region_seoul.info()\n",
        "region_seoul.head()"
      ],
      "execution_count": null,
      "outputs": [
        {
          "output_type": "stream",
          "text": [
            "['서울특별시']\n",
            "<class 'pandas.core.frame.DataFrame'>\n",
            "Int64Index: 425 entries, 0 to 424\n",
            "Data columns (total 4 columns):\n",
            " #   Column       Non-Null Count  Dtype \n",
            "---  ------       --------------  ----- \n",
            " 0   adstrd_code  425 non-null    int64 \n",
            " 1   adstrd_nm    425 non-null    object\n",
            " 2   brtc_nm      425 non-null    object\n",
            " 3   signgu_nm    425 non-null    object\n",
            "dtypes: int64(1), object(3)\n",
            "memory usage: 16.6+ KB\n"
          ],
          "name": "stdout"
        },
        {
          "output_type": "execute_result",
          "data": {
            "text/html": [
              "<div>\n",
              "<style scoped>\n",
              "    .dataframe tbody tr th:only-of-type {\n",
              "        vertical-align: middle;\n",
              "    }\n",
              "\n",
              "    .dataframe tbody tr th {\n",
              "        vertical-align: top;\n",
              "    }\n",
              "\n",
              "    .dataframe thead th {\n",
              "        text-align: right;\n",
              "    }\n",
              "</style>\n",
              "<table border=\"1\" class=\"dataframe\">\n",
              "  <thead>\n",
              "    <tr style=\"text-align: right;\">\n",
              "      <th></th>\n",
              "      <th>adstrd_code</th>\n",
              "      <th>adstrd_nm</th>\n",
              "      <th>brtc_nm</th>\n",
              "      <th>signgu_nm</th>\n",
              "    </tr>\n",
              "  </thead>\n",
              "  <tbody>\n",
              "    <tr>\n",
              "      <th>0</th>\n",
              "      <td>11110515</td>\n",
              "      <td>청운효자동</td>\n",
              "      <td>서울특별시</td>\n",
              "      <td>종로구</td>\n",
              "    </tr>\n",
              "    <tr>\n",
              "      <th>1</th>\n",
              "      <td>11110530</td>\n",
              "      <td>사직동</td>\n",
              "      <td>서울특별시</td>\n",
              "      <td>종로구</td>\n",
              "    </tr>\n",
              "    <tr>\n",
              "      <th>2</th>\n",
              "      <td>11110540</td>\n",
              "      <td>삼청동</td>\n",
              "      <td>서울특별시</td>\n",
              "      <td>종로구</td>\n",
              "    </tr>\n",
              "    <tr>\n",
              "      <th>3</th>\n",
              "      <td>11110550</td>\n",
              "      <td>부암동</td>\n",
              "      <td>서울특별시</td>\n",
              "      <td>종로구</td>\n",
              "    </tr>\n",
              "    <tr>\n",
              "      <th>4</th>\n",
              "      <td>11110560</td>\n",
              "      <td>평창동</td>\n",
              "      <td>서울특별시</td>\n",
              "      <td>종로구</td>\n",
              "    </tr>\n",
              "  </tbody>\n",
              "</table>\n",
              "</div>"
            ],
            "text/plain": [
              "   adstrd_code adstrd_nm brtc_nm signgu_nm\n",
              "0     11110515     청운효자동   서울특별시       종로구\n",
              "1     11110530       사직동   서울특별시       종로구\n",
              "2     11110540       삼청동   서울특별시       종로구\n",
              "3     11110550       부암동   서울특별시       종로구\n",
              "4     11110560       평창동   서울특별시       종로구"
            ]
          },
          "metadata": {
            "tags": []
          },
          "execution_count": 30
        }
      ]
    },
    {
      "cell_type": "markdown",
      "metadata": {
        "id": "BZLnUNSYQElg"
      },
      "source": [
        "## 유동인구와 행정동 정보 결합"
      ]
    },
    {
      "cell_type": "code",
      "metadata": {
        "id": "oLiBXS_fQLu0"
      },
      "source": [
        "# 유동인구와 행정동정보 merge로 결합\n",
        "region_pop = population2.merge(region_seoul, how = 'left')"
      ],
      "execution_count": null,
      "outputs": []
    },
    {
      "cell_type": "code",
      "metadata": {
        "id": "lsjTpzN-wutp",
        "outputId": "8b42ae21-b5c6-41dc-ef29-befe4b94cfe4",
        "colab": {
          "base_uri": "https://localhost:8080/",
          "height": 202
        }
      },
      "source": [
        "region_pop.head()"
      ],
      "execution_count": null,
      "outputs": [
        {
          "output_type": "execute_result",
          "data": {
            "text/html": [
              "<div>\n",
              "<style scoped>\n",
              "    .dataframe tbody tr th:only-of-type {\n",
              "        vertical-align: middle;\n",
              "    }\n",
              "\n",
              "    .dataframe tbody tr th {\n",
              "        vertical-align: top;\n",
              "    }\n",
              "\n",
              "    .dataframe thead th {\n",
              "        text-align: right;\n",
              "    }\n",
              "</style>\n",
              "<table border=\"1\" class=\"dataframe\">\n",
              "  <thead>\n",
              "    <tr style=\"text-align: right;\">\n",
              "      <th></th>\n",
              "      <th>base_ymd</th>\n",
              "      <th>sexdstn_se_code</th>\n",
              "      <th>adstrd_code</th>\n",
              "      <th>popltn_cascnt</th>\n",
              "      <th>adstrd_nm</th>\n",
              "      <th>brtc_nm</th>\n",
              "      <th>signgu_nm</th>\n",
              "    </tr>\n",
              "  </thead>\n",
              "  <tbody>\n",
              "    <tr>\n",
              "      <th>0</th>\n",
              "      <td>20200104</td>\n",
              "      <td>F</td>\n",
              "      <td>11110515</td>\n",
              "      <td>32142</td>\n",
              "      <td>청운효자동</td>\n",
              "      <td>서울특별시</td>\n",
              "      <td>종로구</td>\n",
              "    </tr>\n",
              "    <tr>\n",
              "      <th>1</th>\n",
              "      <td>20200104</td>\n",
              "      <td>F</td>\n",
              "      <td>11110530</td>\n",
              "      <td>81625</td>\n",
              "      <td>사직동</td>\n",
              "      <td>서울특별시</td>\n",
              "      <td>종로구</td>\n",
              "    </tr>\n",
              "    <tr>\n",
              "      <th>2</th>\n",
              "      <td>20200104</td>\n",
              "      <td>F</td>\n",
              "      <td>11110540</td>\n",
              "      <td>18660</td>\n",
              "      <td>삼청동</td>\n",
              "      <td>서울특별시</td>\n",
              "      <td>종로구</td>\n",
              "    </tr>\n",
              "    <tr>\n",
              "      <th>3</th>\n",
              "      <td>20200104</td>\n",
              "      <td>F</td>\n",
              "      <td>11110550</td>\n",
              "      <td>37372</td>\n",
              "      <td>부암동</td>\n",
              "      <td>서울특별시</td>\n",
              "      <td>종로구</td>\n",
              "    </tr>\n",
              "    <tr>\n",
              "      <th>4</th>\n",
              "      <td>20200104</td>\n",
              "      <td>F</td>\n",
              "      <td>11110560</td>\n",
              "      <td>42261</td>\n",
              "      <td>평창동</td>\n",
              "      <td>서울특별시</td>\n",
              "      <td>종로구</td>\n",
              "    </tr>\n",
              "  </tbody>\n",
              "</table>\n",
              "</div>"
            ],
            "text/plain": [
              "   base_ymd sexdstn_se_code  adstrd_code  ...  adstrd_nm brtc_nm signgu_nm\n",
              "0  20200104               F     11110515  ...      청운효자동   서울특별시       종로구\n",
              "1  20200104               F     11110530  ...        사직동   서울특별시       종로구\n",
              "2  20200104               F     11110540  ...        삼청동   서울특별시       종로구\n",
              "3  20200104               F     11110550  ...        부암동   서울특별시       종로구\n",
              "4  20200104               F     11110560  ...        평창동   서울특별시       종로구\n",
              "\n",
              "[5 rows x 7 columns]"
            ]
          },
          "metadata": {
            "tags": []
          },
          "execution_count": 32
        }
      ]
    },
    {
      "cell_type": "markdown",
      "metadata": {
        "id": "56_zKwIYRHhg"
      },
      "source": [
        "### 각 성별 유동인구 합치기"
      ]
    },
    {
      "cell_type": "code",
      "metadata": {
        "id": "8VGTc6lLV432"
      },
      "source": [
        "# 기본틀\n",
        "region_pop2 = region_pop[region_pop['sexdstn_se_code'] == 'F'].copy()\n",
        "region_pop2.drop('sexdstn_se_code', axis = 1, inplace = True)\n",
        "region_pop2 = region_pop2.sort_values(by = ['base_ymd', 'adstrd_code']) # 후에 카드 데이터와 결합을 맞춰주기 위해\n",
        "region_pop2"
      ],
      "execution_count": null,
      "outputs": []
    },
    {
      "cell_type": "code",
      "metadata": {
        "id": "fanXNRFP8RVu",
        "outputId": "d1605056-177e-469e-c11d-c95228d9d46e",
        "colab": {
          "base_uri": "https://localhost:8080/",
          "height": 202
        }
      },
      "source": [
        "region_pop2.head()"
      ],
      "execution_count": null,
      "outputs": [
        {
          "output_type": "execute_result",
          "data": {
            "text/html": [
              "<div>\n",
              "<style scoped>\n",
              "    .dataframe tbody tr th:only-of-type {\n",
              "        vertical-align: middle;\n",
              "    }\n",
              "\n",
              "    .dataframe tbody tr th {\n",
              "        vertical-align: top;\n",
              "    }\n",
              "\n",
              "    .dataframe thead th {\n",
              "        text-align: right;\n",
              "    }\n",
              "</style>\n",
              "<table border=\"1\" class=\"dataframe\">\n",
              "  <thead>\n",
              "    <tr style=\"text-align: right;\">\n",
              "      <th></th>\n",
              "      <th>base_ymd</th>\n",
              "      <th>adstrd_code</th>\n",
              "      <th>popltn_cascnt</th>\n",
              "      <th>adstrd_nm</th>\n",
              "      <th>brtc_nm</th>\n",
              "      <th>signgu_nm</th>\n",
              "    </tr>\n",
              "  </thead>\n",
              "  <tbody>\n",
              "    <tr>\n",
              "      <th>0</th>\n",
              "      <td>20200104</td>\n",
              "      <td>11110515</td>\n",
              "      <td>32142</td>\n",
              "      <td>청운효자동</td>\n",
              "      <td>서울특별시</td>\n",
              "      <td>종로구</td>\n",
              "    </tr>\n",
              "    <tr>\n",
              "      <th>1</th>\n",
              "      <td>20200104</td>\n",
              "      <td>11110530</td>\n",
              "      <td>81625</td>\n",
              "      <td>사직동</td>\n",
              "      <td>서울특별시</td>\n",
              "      <td>종로구</td>\n",
              "    </tr>\n",
              "    <tr>\n",
              "      <th>2</th>\n",
              "      <td>20200104</td>\n",
              "      <td>11110540</td>\n",
              "      <td>18660</td>\n",
              "      <td>삼청동</td>\n",
              "      <td>서울특별시</td>\n",
              "      <td>종로구</td>\n",
              "    </tr>\n",
              "    <tr>\n",
              "      <th>3</th>\n",
              "      <td>20200104</td>\n",
              "      <td>11110550</td>\n",
              "      <td>37372</td>\n",
              "      <td>부암동</td>\n",
              "      <td>서울특별시</td>\n",
              "      <td>종로구</td>\n",
              "    </tr>\n",
              "    <tr>\n",
              "      <th>4</th>\n",
              "      <td>20200104</td>\n",
              "      <td>11110560</td>\n",
              "      <td>42261</td>\n",
              "      <td>평창동</td>\n",
              "      <td>서울특별시</td>\n",
              "      <td>종로구</td>\n",
              "    </tr>\n",
              "  </tbody>\n",
              "</table>\n",
              "</div>"
            ],
            "text/plain": [
              "   base_ymd  adstrd_code  popltn_cascnt adstrd_nm brtc_nm signgu_nm\n",
              "0  20200104     11110515          32142     청운효자동   서울특별시       종로구\n",
              "1  20200104     11110530          81625       사직동   서울특별시       종로구\n",
              "2  20200104     11110540          18660       삼청동   서울특별시       종로구\n",
              "3  20200104     11110550          37372       부암동   서울특별시       종로구\n",
              "4  20200104     11110560          42261       평창동   서울특별시       종로구"
            ]
          },
          "metadata": {
            "tags": []
          },
          "execution_count": 34
        }
      ]
    },
    {
      "cell_type": "code",
      "metadata": {
        "id": "hx-vO22lVPpe",
        "outputId": "dd32bfaf-bd0c-4298-89e2-1a7b1d09268e",
        "colab": {
          "base_uri": "https://localhost:8080/",
          "height": 415
        }
      },
      "source": [
        "# 유동인구 통합 값 계산\n",
        "pop_sum = region_pop.groupby(['base_ymd', 'adstrd_code', 'adstrd_nm', 'brtc_nm', 'signgu_nm']).sum().sort_values(\n",
        "    by = ['base_ymd', 'adstrd_code']).reset_index().copy()\n",
        "pop_sum = pop_sum.rename(columns = {'popltn_cascnt': 'popltn_cascnt2'}) \n",
        "pop_sum"
      ],
      "execution_count": null,
      "outputs": [
        {
          "output_type": "execute_result",
          "data": {
            "text/html": [
              "<div>\n",
              "<style scoped>\n",
              "    .dataframe tbody tr th:only-of-type {\n",
              "        vertical-align: middle;\n",
              "    }\n",
              "\n",
              "    .dataframe tbody tr th {\n",
              "        vertical-align: top;\n",
              "    }\n",
              "\n",
              "    .dataframe thead th {\n",
              "        text-align: right;\n",
              "    }\n",
              "</style>\n",
              "<table border=\"1\" class=\"dataframe\">\n",
              "  <thead>\n",
              "    <tr style=\"text-align: right;\">\n",
              "      <th></th>\n",
              "      <th>base_ymd</th>\n",
              "      <th>adstrd_code</th>\n",
              "      <th>adstrd_nm</th>\n",
              "      <th>brtc_nm</th>\n",
              "      <th>signgu_nm</th>\n",
              "      <th>popltn_cascnt2</th>\n",
              "    </tr>\n",
              "  </thead>\n",
              "  <tbody>\n",
              "    <tr>\n",
              "      <th>0</th>\n",
              "      <td>20200104</td>\n",
              "      <td>11110515</td>\n",
              "      <td>청운효자동</td>\n",
              "      <td>서울특별시</td>\n",
              "      <td>종로구</td>\n",
              "      <td>73084</td>\n",
              "    </tr>\n",
              "    <tr>\n",
              "      <th>1</th>\n",
              "      <td>20200104</td>\n",
              "      <td>11110530</td>\n",
              "      <td>사직동</td>\n",
              "      <td>서울특별시</td>\n",
              "      <td>종로구</td>\n",
              "      <td>178588</td>\n",
              "    </tr>\n",
              "    <tr>\n",
              "      <th>2</th>\n",
              "      <td>20200104</td>\n",
              "      <td>11110540</td>\n",
              "      <td>삼청동</td>\n",
              "      <td>서울특별시</td>\n",
              "      <td>종로구</td>\n",
              "      <td>39915</td>\n",
              "    </tr>\n",
              "    <tr>\n",
              "      <th>3</th>\n",
              "      <td>20200104</td>\n",
              "      <td>11110550</td>\n",
              "      <td>부암동</td>\n",
              "      <td>서울특별시</td>\n",
              "      <td>종로구</td>\n",
              "      <td>90008</td>\n",
              "    </tr>\n",
              "    <tr>\n",
              "      <th>4</th>\n",
              "      <td>20200104</td>\n",
              "      <td>11110560</td>\n",
              "      <td>평창동</td>\n",
              "      <td>서울특별시</td>\n",
              "      <td>종로구</td>\n",
              "      <td>104662</td>\n",
              "    </tr>\n",
              "    <tr>\n",
              "      <th>...</th>\n",
              "      <td>...</td>\n",
              "      <td>...</td>\n",
              "      <td>...</td>\n",
              "      <td>...</td>\n",
              "      <td>...</td>\n",
              "      <td>...</td>\n",
              "    </tr>\n",
              "    <tr>\n",
              "      <th>69242</th>\n",
              "      <td>20200614</td>\n",
              "      <td>11740650</td>\n",
              "      <td>성내2동</td>\n",
              "      <td>서울특별시</td>\n",
              "      <td>강동구</td>\n",
              "      <td>105268</td>\n",
              "    </tr>\n",
              "    <tr>\n",
              "      <th>69243</th>\n",
              "      <td>20200614</td>\n",
              "      <td>11740660</td>\n",
              "      <td>성내3동</td>\n",
              "      <td>서울특별시</td>\n",
              "      <td>강동구</td>\n",
              "      <td>162537</td>\n",
              "    </tr>\n",
              "    <tr>\n",
              "      <th>69244</th>\n",
              "      <td>20200614</td>\n",
              "      <td>11740685</td>\n",
              "      <td>길동</td>\n",
              "      <td>서울특별시</td>\n",
              "      <td>강동구</td>\n",
              "      <td>127426</td>\n",
              "    </tr>\n",
              "    <tr>\n",
              "      <th>69245</th>\n",
              "      <td>20200614</td>\n",
              "      <td>11740690</td>\n",
              "      <td>둔촌1동</td>\n",
              "      <td>서울특별시</td>\n",
              "      <td>강동구</td>\n",
              "      <td>44733</td>\n",
              "    </tr>\n",
              "    <tr>\n",
              "      <th>69246</th>\n",
              "      <td>20200614</td>\n",
              "      <td>11740700</td>\n",
              "      <td>둔촌2동</td>\n",
              "      <td>서울특별시</td>\n",
              "      <td>강동구</td>\n",
              "      <td>115051</td>\n",
              "    </tr>\n",
              "  </tbody>\n",
              "</table>\n",
              "<p>69247 rows × 6 columns</p>\n",
              "</div>"
            ],
            "text/plain": [
              "       base_ymd  adstrd_code adstrd_nm brtc_nm signgu_nm  popltn_cascnt2\n",
              "0      20200104     11110515     청운효자동   서울특별시       종로구           73084\n",
              "1      20200104     11110530       사직동   서울특별시       종로구          178588\n",
              "2      20200104     11110540       삼청동   서울특별시       종로구           39915\n",
              "3      20200104     11110550       부암동   서울특별시       종로구           90008\n",
              "4      20200104     11110560       평창동   서울특별시       종로구          104662\n",
              "...         ...          ...       ...     ...       ...             ...\n",
              "69242  20200614     11740650      성내2동   서울특별시       강동구          105268\n",
              "69243  20200614     11740660      성내3동   서울특별시       강동구          162537\n",
              "69244  20200614     11740685        길동   서울특별시       강동구          127426\n",
              "69245  20200614     11740690      둔촌1동   서울특별시       강동구           44733\n",
              "69246  20200614     11740700      둔촌2동   서울특별시       강동구          115051\n",
              "\n",
              "[69247 rows x 6 columns]"
            ]
          },
          "metadata": {
            "tags": []
          },
          "execution_count": 35
        }
      ]
    },
    {
      "cell_type": "code",
      "metadata": {
        "id": "jlsN1eOFZHUy",
        "outputId": "6dd4b6c8-167e-46e8-ee5c-15dc9c3ffffd",
        "colab": {
          "base_uri": "https://localhost:8080/",
          "height": 415
        }
      },
      "source": [
        "# 기본틀과 유동인구총합 결합\n",
        "pop_sum_final = region_pop2.merge(pop_sum)\n",
        "pop_sum_final"
      ],
      "execution_count": null,
      "outputs": [
        {
          "output_type": "execute_result",
          "data": {
            "text/html": [
              "<div>\n",
              "<style scoped>\n",
              "    .dataframe tbody tr th:only-of-type {\n",
              "        vertical-align: middle;\n",
              "    }\n",
              "\n",
              "    .dataframe tbody tr th {\n",
              "        vertical-align: top;\n",
              "    }\n",
              "\n",
              "    .dataframe thead th {\n",
              "        text-align: right;\n",
              "    }\n",
              "</style>\n",
              "<table border=\"1\" class=\"dataframe\">\n",
              "  <thead>\n",
              "    <tr style=\"text-align: right;\">\n",
              "      <th></th>\n",
              "      <th>base_ymd</th>\n",
              "      <th>adstrd_code</th>\n",
              "      <th>popltn_cascnt</th>\n",
              "      <th>adstrd_nm</th>\n",
              "      <th>brtc_nm</th>\n",
              "      <th>signgu_nm</th>\n",
              "      <th>popltn_cascnt2</th>\n",
              "    </tr>\n",
              "  </thead>\n",
              "  <tbody>\n",
              "    <tr>\n",
              "      <th>0</th>\n",
              "      <td>20200104</td>\n",
              "      <td>11110515</td>\n",
              "      <td>32142</td>\n",
              "      <td>청운효자동</td>\n",
              "      <td>서울특별시</td>\n",
              "      <td>종로구</td>\n",
              "      <td>73084</td>\n",
              "    </tr>\n",
              "    <tr>\n",
              "      <th>1</th>\n",
              "      <td>20200104</td>\n",
              "      <td>11110530</td>\n",
              "      <td>81625</td>\n",
              "      <td>사직동</td>\n",
              "      <td>서울특별시</td>\n",
              "      <td>종로구</td>\n",
              "      <td>178588</td>\n",
              "    </tr>\n",
              "    <tr>\n",
              "      <th>2</th>\n",
              "      <td>20200104</td>\n",
              "      <td>11110540</td>\n",
              "      <td>18660</td>\n",
              "      <td>삼청동</td>\n",
              "      <td>서울특별시</td>\n",
              "      <td>종로구</td>\n",
              "      <td>39915</td>\n",
              "    </tr>\n",
              "    <tr>\n",
              "      <th>3</th>\n",
              "      <td>20200104</td>\n",
              "      <td>11110550</td>\n",
              "      <td>37372</td>\n",
              "      <td>부암동</td>\n",
              "      <td>서울특별시</td>\n",
              "      <td>종로구</td>\n",
              "      <td>90008</td>\n",
              "    </tr>\n",
              "    <tr>\n",
              "      <th>4</th>\n",
              "      <td>20200104</td>\n",
              "      <td>11110560</td>\n",
              "      <td>42261</td>\n",
              "      <td>평창동</td>\n",
              "      <td>서울특별시</td>\n",
              "      <td>종로구</td>\n",
              "      <td>104662</td>\n",
              "    </tr>\n",
              "    <tr>\n",
              "      <th>...</th>\n",
              "      <td>...</td>\n",
              "      <td>...</td>\n",
              "      <td>...</td>\n",
              "      <td>...</td>\n",
              "      <td>...</td>\n",
              "      <td>...</td>\n",
              "      <td>...</td>\n",
              "    </tr>\n",
              "    <tr>\n",
              "      <th>69242</th>\n",
              "      <td>20200614</td>\n",
              "      <td>11740650</td>\n",
              "      <td>50756</td>\n",
              "      <td>성내2동</td>\n",
              "      <td>서울특별시</td>\n",
              "      <td>강동구</td>\n",
              "      <td>105268</td>\n",
              "    </tr>\n",
              "    <tr>\n",
              "      <th>69243</th>\n",
              "      <td>20200614</td>\n",
              "      <td>11740660</td>\n",
              "      <td>74202</td>\n",
              "      <td>성내3동</td>\n",
              "      <td>서울특별시</td>\n",
              "      <td>강동구</td>\n",
              "      <td>162537</td>\n",
              "    </tr>\n",
              "    <tr>\n",
              "      <th>69244</th>\n",
              "      <td>20200614</td>\n",
              "      <td>11740685</td>\n",
              "      <td>60153</td>\n",
              "      <td>길동</td>\n",
              "      <td>서울특별시</td>\n",
              "      <td>강동구</td>\n",
              "      <td>127426</td>\n",
              "    </tr>\n",
              "    <tr>\n",
              "      <th>69245</th>\n",
              "      <td>20200614</td>\n",
              "      <td>11740690</td>\n",
              "      <td>19196</td>\n",
              "      <td>둔촌1동</td>\n",
              "      <td>서울특별시</td>\n",
              "      <td>강동구</td>\n",
              "      <td>44733</td>\n",
              "    </tr>\n",
              "    <tr>\n",
              "      <th>69246</th>\n",
              "      <td>20200614</td>\n",
              "      <td>11740700</td>\n",
              "      <td>53183</td>\n",
              "      <td>둔촌2동</td>\n",
              "      <td>서울특별시</td>\n",
              "      <td>강동구</td>\n",
              "      <td>115051</td>\n",
              "    </tr>\n",
              "  </tbody>\n",
              "</table>\n",
              "<p>69247 rows × 7 columns</p>\n",
              "</div>"
            ],
            "text/plain": [
              "       base_ymd  adstrd_code  popltn_cascnt  ... brtc_nm signgu_nm popltn_cascnt2\n",
              "0      20200104     11110515          32142  ...   서울특별시       종로구          73084\n",
              "1      20200104     11110530          81625  ...   서울특별시       종로구         178588\n",
              "2      20200104     11110540          18660  ...   서울특별시       종로구          39915\n",
              "3      20200104     11110550          37372  ...   서울특별시       종로구          90008\n",
              "4      20200104     11110560          42261  ...   서울특별시       종로구         104662\n",
              "...         ...          ...            ...  ...     ...       ...            ...\n",
              "69242  20200614     11740650          50756  ...   서울특별시       강동구         105268\n",
              "69243  20200614     11740660          74202  ...   서울특별시       강동구         162537\n",
              "69244  20200614     11740685          60153  ...   서울특별시       강동구         127426\n",
              "69245  20200614     11740690          19196  ...   서울특별시       강동구          44733\n",
              "69246  20200614     11740700          53183  ...   서울특별시       강동구         115051\n",
              "\n",
              "[69247 rows x 7 columns]"
            ]
          },
          "metadata": {
            "tags": []
          },
          "execution_count": 36
        }
      ]
    },
    {
      "cell_type": "code",
      "metadata": {
        "id": "fkk5uhhDZVrB"
      },
      "source": [
        "# 유동인구 총합만 유지하고 성별 유동인구는 제거\n",
        "pop_sum_final.drop('popltn_cascnt', axis = 1, inplace = True)"
      ],
      "execution_count": null,
      "outputs": []
    },
    {
      "cell_type": "code",
      "metadata": {
        "id": "V-cka5LdXOHq",
        "outputId": "2956b164-4191-43de-ca31-493aecfd5e20",
        "colab": {
          "base_uri": "https://localhost:8080/",
          "height": 202
        }
      },
      "source": [
        "pop_sum_final.head()"
      ],
      "execution_count": null,
      "outputs": [
        {
          "output_type": "execute_result",
          "data": {
            "text/html": [
              "<div>\n",
              "<style scoped>\n",
              "    .dataframe tbody tr th:only-of-type {\n",
              "        vertical-align: middle;\n",
              "    }\n",
              "\n",
              "    .dataframe tbody tr th {\n",
              "        vertical-align: top;\n",
              "    }\n",
              "\n",
              "    .dataframe thead th {\n",
              "        text-align: right;\n",
              "    }\n",
              "</style>\n",
              "<table border=\"1\" class=\"dataframe\">\n",
              "  <thead>\n",
              "    <tr style=\"text-align: right;\">\n",
              "      <th></th>\n",
              "      <th>base_ymd</th>\n",
              "      <th>adstrd_code</th>\n",
              "      <th>adstrd_nm</th>\n",
              "      <th>brtc_nm</th>\n",
              "      <th>signgu_nm</th>\n",
              "      <th>popltn_cascnt2</th>\n",
              "    </tr>\n",
              "  </thead>\n",
              "  <tbody>\n",
              "    <tr>\n",
              "      <th>0</th>\n",
              "      <td>20200104</td>\n",
              "      <td>11110515</td>\n",
              "      <td>청운효자동</td>\n",
              "      <td>서울특별시</td>\n",
              "      <td>종로구</td>\n",
              "      <td>73084</td>\n",
              "    </tr>\n",
              "    <tr>\n",
              "      <th>1</th>\n",
              "      <td>20200104</td>\n",
              "      <td>11110530</td>\n",
              "      <td>사직동</td>\n",
              "      <td>서울특별시</td>\n",
              "      <td>종로구</td>\n",
              "      <td>178588</td>\n",
              "    </tr>\n",
              "    <tr>\n",
              "      <th>2</th>\n",
              "      <td>20200104</td>\n",
              "      <td>11110540</td>\n",
              "      <td>삼청동</td>\n",
              "      <td>서울특별시</td>\n",
              "      <td>종로구</td>\n",
              "      <td>39915</td>\n",
              "    </tr>\n",
              "    <tr>\n",
              "      <th>3</th>\n",
              "      <td>20200104</td>\n",
              "      <td>11110550</td>\n",
              "      <td>부암동</td>\n",
              "      <td>서울특별시</td>\n",
              "      <td>종로구</td>\n",
              "      <td>90008</td>\n",
              "    </tr>\n",
              "    <tr>\n",
              "      <th>4</th>\n",
              "      <td>20200104</td>\n",
              "      <td>11110560</td>\n",
              "      <td>평창동</td>\n",
              "      <td>서울특별시</td>\n",
              "      <td>종로구</td>\n",
              "      <td>104662</td>\n",
              "    </tr>\n",
              "  </tbody>\n",
              "</table>\n",
              "</div>"
            ],
            "text/plain": [
              "   base_ymd  adstrd_code adstrd_nm brtc_nm signgu_nm  popltn_cascnt2\n",
              "0  20200104     11110515     청운효자동   서울특별시       종로구           73084\n",
              "1  20200104     11110530       사직동   서울특별시       종로구          178588\n",
              "2  20200104     11110540       삼청동   서울특별시       종로구           39915\n",
              "3  20200104     11110550       부암동   서울특별시       종로구           90008\n",
              "4  20200104     11110560       평창동   서울특별시       종로구          104662"
            ]
          },
          "metadata": {
            "tags": []
          },
          "execution_count": 38
        }
      ]
    },
    {
      "cell_type": "code",
      "metadata": {
        "id": "C-m5Ecx-9R-Q",
        "outputId": "7c2aeff7-1a8c-4c67-ce12-0beda463eeaa",
        "colab": {
          "base_uri": "https://localhost:8080/",
          "height": 202
        }
      },
      "source": [
        "# 구별 일별 유동인구\n",
        "pop_sum_final2 = pop_sum_final.groupby(['base_ymd', 'brtc_nm', 'signgu_nm'])['popltn_cascnt2'].sum().reset_index().copy()\n",
        "pop_sum_final2.head()"
      ],
      "execution_count": null,
      "outputs": [
        {
          "output_type": "execute_result",
          "data": {
            "text/html": [
              "<div>\n",
              "<style scoped>\n",
              "    .dataframe tbody tr th:only-of-type {\n",
              "        vertical-align: middle;\n",
              "    }\n",
              "\n",
              "    .dataframe tbody tr th {\n",
              "        vertical-align: top;\n",
              "    }\n",
              "\n",
              "    .dataframe thead th {\n",
              "        text-align: right;\n",
              "    }\n",
              "</style>\n",
              "<table border=\"1\" class=\"dataframe\">\n",
              "  <thead>\n",
              "    <tr style=\"text-align: right;\">\n",
              "      <th></th>\n",
              "      <th>base_ymd</th>\n",
              "      <th>brtc_nm</th>\n",
              "      <th>signgu_nm</th>\n",
              "      <th>popltn_cascnt2</th>\n",
              "    </tr>\n",
              "  </thead>\n",
              "  <tbody>\n",
              "    <tr>\n",
              "      <th>0</th>\n",
              "      <td>20200104</td>\n",
              "      <td>서울특별시</td>\n",
              "      <td>강남구</td>\n",
              "      <td>4268654</td>\n",
              "    </tr>\n",
              "    <tr>\n",
              "      <th>1</th>\n",
              "      <td>20200104</td>\n",
              "      <td>서울특별시</td>\n",
              "      <td>강동구</td>\n",
              "      <td>2425402</td>\n",
              "    </tr>\n",
              "    <tr>\n",
              "      <th>2</th>\n",
              "      <td>20200104</td>\n",
              "      <td>서울특별시</td>\n",
              "      <td>강북구</td>\n",
              "      <td>1036862</td>\n",
              "    </tr>\n",
              "    <tr>\n",
              "      <th>3</th>\n",
              "      <td>20200104</td>\n",
              "      <td>서울특별시</td>\n",
              "      <td>강서구</td>\n",
              "      <td>2465692</td>\n",
              "    </tr>\n",
              "    <tr>\n",
              "      <th>4</th>\n",
              "      <td>20200104</td>\n",
              "      <td>서울특별시</td>\n",
              "      <td>관악구</td>\n",
              "      <td>1977717</td>\n",
              "    </tr>\n",
              "  </tbody>\n",
              "</table>\n",
              "</div>"
            ],
            "text/plain": [
              "   base_ymd brtc_nm signgu_nm  popltn_cascnt2\n",
              "0  20200104   서울특별시       강남구         4268654\n",
              "1  20200104   서울특별시       강동구         2425402\n",
              "2  20200104   서울특별시       강북구         1036862\n",
              "3  20200104   서울특별시       강서구         2465692\n",
              "4  20200104   서울특별시       관악구         1977717"
            ]
          },
          "metadata": {
            "tags": []
          },
          "execution_count": 39
        }
      ]
    },
    {
      "cell_type": "code",
      "metadata": {
        "id": "_FrYKrCQ_T0V",
        "outputId": "1770c988-138e-4e31-b831-e1bf0c9a6b94",
        "colab": {
          "base_uri": "https://localhost:8080/",
          "height": 79
        }
      },
      "source": [
        "pop_sum_final2[pop_sum_final2['signgu_nm'] == '종로구'].head(1)"
      ],
      "execution_count": null,
      "outputs": [
        {
          "output_type": "execute_result",
          "data": {
            "text/html": [
              "<div>\n",
              "<style scoped>\n",
              "    .dataframe tbody tr th:only-of-type {\n",
              "        vertical-align: middle;\n",
              "    }\n",
              "\n",
              "    .dataframe tbody tr th {\n",
              "        vertical-align: top;\n",
              "    }\n",
              "\n",
              "    .dataframe thead th {\n",
              "        text-align: right;\n",
              "    }\n",
              "</style>\n",
              "<table border=\"1\" class=\"dataframe\">\n",
              "  <thead>\n",
              "    <tr style=\"text-align: right;\">\n",
              "      <th></th>\n",
              "      <th>base_ymd</th>\n",
              "      <th>brtc_nm</th>\n",
              "      <th>signgu_nm</th>\n",
              "      <th>popltn_cascnt2</th>\n",
              "    </tr>\n",
              "  </thead>\n",
              "  <tbody>\n",
              "    <tr>\n",
              "      <th>22</th>\n",
              "      <td>20200104</td>\n",
              "      <td>서울특별시</td>\n",
              "      <td>종로구</td>\n",
              "      <td>1685580</td>\n",
              "    </tr>\n",
              "  </tbody>\n",
              "</table>\n",
              "</div>"
            ],
            "text/plain": [
              "    base_ymd brtc_nm signgu_nm  popltn_cascnt2\n",
              "22  20200104   서울특별시       종로구         1685580"
            ]
          },
          "metadata": {
            "tags": []
          },
          "execution_count": 40
        }
      ]
    },
    {
      "cell_type": "code",
      "metadata": {
        "id": "uI5CqRn7_4sU"
      },
      "source": [
        "# 서울시 데이터만 다루니, brtc_nm 제거\n",
        "pop_sum_final2.drop('brtc_nm', axis = 1, inplace = True)\n",
        "# 열 이름 변경\n",
        "pop_sum_final2.columns = ['날짜', '시군구', '유동인구']"
      ],
      "execution_count": null,
      "outputs": []
    },
    {
      "cell_type": "code",
      "metadata": {
        "id": "aAAJJtrwZkUk",
        "outputId": "0cbef976-9efc-4d2e-c73b-4cb83c1256d8",
        "colab": {
          "base_uri": "https://localhost:8080/",
          "height": 415
        }
      },
      "source": [
        "# 최종 유동인구 데이터\n",
        "pop_sum_final2"
      ],
      "execution_count": null,
      "outputs": [
        {
          "output_type": "execute_result",
          "data": {
            "text/html": [
              "<div>\n",
              "<style scoped>\n",
              "    .dataframe tbody tr th:only-of-type {\n",
              "        vertical-align: middle;\n",
              "    }\n",
              "\n",
              "    .dataframe tbody tr th {\n",
              "        vertical-align: top;\n",
              "    }\n",
              "\n",
              "    .dataframe thead th {\n",
              "        text-align: right;\n",
              "    }\n",
              "</style>\n",
              "<table border=\"1\" class=\"dataframe\">\n",
              "  <thead>\n",
              "    <tr style=\"text-align: right;\">\n",
              "      <th></th>\n",
              "      <th>날짜</th>\n",
              "      <th>시군구</th>\n",
              "      <th>유동인구</th>\n",
              "    </tr>\n",
              "  </thead>\n",
              "  <tbody>\n",
              "    <tr>\n",
              "      <th>0</th>\n",
              "      <td>20200104</td>\n",
              "      <td>강남구</td>\n",
              "      <td>4268654</td>\n",
              "    </tr>\n",
              "    <tr>\n",
              "      <th>1</th>\n",
              "      <td>20200104</td>\n",
              "      <td>강동구</td>\n",
              "      <td>2425402</td>\n",
              "    </tr>\n",
              "    <tr>\n",
              "      <th>2</th>\n",
              "      <td>20200104</td>\n",
              "      <td>강북구</td>\n",
              "      <td>1036862</td>\n",
              "    </tr>\n",
              "    <tr>\n",
              "      <th>3</th>\n",
              "      <td>20200104</td>\n",
              "      <td>강서구</td>\n",
              "      <td>2465692</td>\n",
              "    </tr>\n",
              "    <tr>\n",
              "      <th>4</th>\n",
              "      <td>20200104</td>\n",
              "      <td>관악구</td>\n",
              "      <td>1977717</td>\n",
              "    </tr>\n",
              "    <tr>\n",
              "      <th>...</th>\n",
              "      <td>...</td>\n",
              "      <td>...</td>\n",
              "      <td>...</td>\n",
              "    </tr>\n",
              "    <tr>\n",
              "      <th>4070</th>\n",
              "      <td>20200614</td>\n",
              "      <td>용산구</td>\n",
              "      <td>1848525</td>\n",
              "    </tr>\n",
              "    <tr>\n",
              "      <th>4071</th>\n",
              "      <td>20200614</td>\n",
              "      <td>은평구</td>\n",
              "      <td>1436435</td>\n",
              "    </tr>\n",
              "    <tr>\n",
              "      <th>4072</th>\n",
              "      <td>20200614</td>\n",
              "      <td>종로구</td>\n",
              "      <td>1269669</td>\n",
              "    </tr>\n",
              "    <tr>\n",
              "      <th>4073</th>\n",
              "      <td>20200614</td>\n",
              "      <td>중구</td>\n",
              "      <td>1166980</td>\n",
              "    </tr>\n",
              "    <tr>\n",
              "      <th>4074</th>\n",
              "      <td>20200614</td>\n",
              "      <td>중랑구</td>\n",
              "      <td>1436522</td>\n",
              "    </tr>\n",
              "  </tbody>\n",
              "</table>\n",
              "<p>4075 rows × 3 columns</p>\n",
              "</div>"
            ],
            "text/plain": [
              "            날짜  시군구     유동인구\n",
              "0     20200104  강남구  4268654\n",
              "1     20200104  강동구  2425402\n",
              "2     20200104  강북구  1036862\n",
              "3     20200104  강서구  2465692\n",
              "4     20200104  관악구  1977717\n",
              "...        ...  ...      ...\n",
              "4070  20200614  용산구  1848525\n",
              "4071  20200614  은평구  1436435\n",
              "4072  20200614  종로구  1269669\n",
              "4073  20200614   중구  1166980\n",
              "4074  20200614  중랑구  1436522\n",
              "\n",
              "[4075 rows x 3 columns]"
            ]
          },
          "metadata": {
            "tags": []
          },
          "execution_count": 44
        }
      ]
    },
    {
      "cell_type": "code",
      "metadata": {
        "id": "q2OeWtZbZu8m"
      },
      "source": [
        "pop_sum_final2.to_csv('pop_sum.csv', index = False)"
      ],
      "execution_count": null,
      "outputs": []
    },
    {
      "cell_type": "markdown",
      "metadata": {
        "id": "MQrvGt_WR_oq"
      },
      "source": [
        "## 카드데이터"
      ]
    },
    {
      "cell_type": "code",
      "metadata": {
        "id": "Ty4KHVIfa2SD",
        "outputId": "d5cd2d2d-449d-4e13-acf6-c45567e89015",
        "colab": {
          "base_uri": "https://localhost:8080/",
          "height": 260
        }
      },
      "source": [
        "card.info()"
      ],
      "execution_count": null,
      "outputs": [
        {
          "output_type": "stream",
          "text": [
            "<class 'pandas.core.frame.DataFrame'>\n",
            "RangeIndex: 3713952 entries, 0 to 3713951\n",
            "Data columns (total 7 columns):\n",
            " #   Column                Dtype \n",
            "---  ------                ----- \n",
            " 0   receipt_dttm          int64 \n",
            " 1   adstrd_code           int64 \n",
            " 2   adstrd_nm             object\n",
            " 3   mrhst_induty_cl_code  int64 \n",
            " 4   mrhst_induty_cl_nm    object\n",
            " 5   selng_cascnt          int64 \n",
            " 6   salamt                int64 \n",
            "dtypes: int64(5), object(2)\n",
            "memory usage: 198.3+ MB\n"
          ],
          "name": "stdout"
        }
      ]
    },
    {
      "cell_type": "code",
      "metadata": {
        "id": "wnMvsKewxY4o"
      },
      "source": [
        "# 행정동 코드 100으로 나눈 후 정수로 변환\n",
        "card.adstrd_code = (card.adstrd_code / 100).astype(int)\n",
        "# 업종명의 여백 제거\n",
        "card.mrhst_induty_cl_nm = card.mrhst_induty_cl_nm.str.replace(' ', '')"
      ],
      "execution_count": null,
      "outputs": []
    },
    {
      "cell_type": "code",
      "metadata": {
        "id": "oroIsSt8X7_a"
      },
      "source": [
        "# 유동인구 데이터와 열 이름 맞추기\n",
        "card = card.rename(columns = {'receipt_dttm': 'base_ymd'})"
      ],
      "execution_count": null,
      "outputs": []
    },
    {
      "cell_type": "code",
      "metadata": {
        "id": "iIgL5E8ZXepW",
        "outputId": "90c38ad2-443d-49a5-b256-535ff6d5ba2c",
        "colab": {
          "base_uri": "https://localhost:8080/",
          "height": 139
        }
      },
      "source": [
        "# 업종명 여백 제거 확인\n",
        "card.mrhst_induty_cl_nm.unique()[0:50]"
      ],
      "execution_count": null,
      "outputs": [
        {
          "output_type": "execute_result",
          "data": {
            "text/plain": [
              "array(['약국', '치과의원', '한의원', '의원', '자동차정비', '기타교육', '보습학원', '일반서적', '정장',\n",
              "       '슈퍼마켓', '편의점', '기타레져업', '노래방', '당구장', '헬스크럽', '스포츠레져용품', '기계공구',\n",
              "       '기타건축자재', '기타음료식품', '농축수산품', '정육점', '제과점', '스넥', '주점', '서양음식',\n",
              "       '중국음식', '일식회집', '일반한식', '화장품', '미용원', '주차장', '화원', '비영리',\n",
              "       '레져업소(회원제형태)', '예체능학원', '문구용품', '사진관', '단란주점', '악세사리', '기타숙박업',\n",
              "       '세탁소', '유흥주점', '안경', '유아원', '기타잡화', '인터넷종합Mall', '대형할인점', '애완동물',\n",
              "       '학원(회원제형태)', '사무서비스'], dtype=object)"
            ]
          },
          "metadata": {
            "tags": []
          },
          "execution_count": 48
        }
      ]
    },
    {
      "cell_type": "code",
      "metadata": {
        "id": "0jBV0Cg4Xsqp",
        "outputId": "b2cbe1a6-09d1-42c7-b3bb-577c70a3b0be",
        "colab": {
          "base_uri": "https://localhost:8080/",
          "height": 202
        }
      },
      "source": [
        "card.head()"
      ],
      "execution_count": null,
      "outputs": [
        {
          "output_type": "execute_result",
          "data": {
            "text/html": [
              "<div>\n",
              "<style scoped>\n",
              "    .dataframe tbody tr th:only-of-type {\n",
              "        vertical-align: middle;\n",
              "    }\n",
              "\n",
              "    .dataframe tbody tr th {\n",
              "        vertical-align: top;\n",
              "    }\n",
              "\n",
              "    .dataframe thead th {\n",
              "        text-align: right;\n",
              "    }\n",
              "</style>\n",
              "<table border=\"1\" class=\"dataframe\">\n",
              "  <thead>\n",
              "    <tr style=\"text-align: right;\">\n",
              "      <th></th>\n",
              "      <th>base_ymd</th>\n",
              "      <th>adstrd_code</th>\n",
              "      <th>adstrd_nm</th>\n",
              "      <th>mrhst_induty_cl_code</th>\n",
              "      <th>mrhst_induty_cl_nm</th>\n",
              "      <th>selng_cascnt</th>\n",
              "      <th>salamt</th>\n",
              "    </tr>\n",
              "  </thead>\n",
              "  <tbody>\n",
              "    <tr>\n",
              "      <th>0</th>\n",
              "      <td>20200104</td>\n",
              "      <td>11740660</td>\n",
              "      <td>성내3동</td>\n",
              "      <td>7041</td>\n",
              "      <td>약국</td>\n",
              "      <td>463</td>\n",
              "      <td>5843230</td>\n",
              "    </tr>\n",
              "    <tr>\n",
              "      <th>1</th>\n",
              "      <td>20200104</td>\n",
              "      <td>11740660</td>\n",
              "      <td>성내3동</td>\n",
              "      <td>7022</td>\n",
              "      <td>치과의원</td>\n",
              "      <td>33</td>\n",
              "      <td>7835550</td>\n",
              "    </tr>\n",
              "    <tr>\n",
              "      <th>2</th>\n",
              "      <td>20200104</td>\n",
              "      <td>11740660</td>\n",
              "      <td>성내3동</td>\n",
              "      <td>7021</td>\n",
              "      <td>한의원</td>\n",
              "      <td>53</td>\n",
              "      <td>4589800</td>\n",
              "    </tr>\n",
              "    <tr>\n",
              "      <th>3</th>\n",
              "      <td>20200104</td>\n",
              "      <td>11740660</td>\n",
              "      <td>성내3동</td>\n",
              "      <td>7020</td>\n",
              "      <td>의원</td>\n",
              "      <td>339</td>\n",
              "      <td>9267240</td>\n",
              "    </tr>\n",
              "    <tr>\n",
              "      <th>4</th>\n",
              "      <td>20200104</td>\n",
              "      <td>11740660</td>\n",
              "      <td>성내3동</td>\n",
              "      <td>6110</td>\n",
              "      <td>자동차정비</td>\n",
              "      <td>19</td>\n",
              "      <td>4441000</td>\n",
              "    </tr>\n",
              "  </tbody>\n",
              "</table>\n",
              "</div>"
            ],
            "text/plain": [
              "   base_ymd  adstrd_code adstrd_nm  ...  mrhst_induty_cl_nm selng_cascnt   salamt\n",
              "0  20200104     11740660      성내3동  ...                  약국          463  5843230\n",
              "1  20200104     11740660      성내3동  ...                치과의원           33  7835550\n",
              "2  20200104     11740660      성내3동  ...                 한의원           53  4589800\n",
              "3  20200104     11740660      성내3동  ...                  의원          339  9267240\n",
              "4  20200104     11740660      성내3동  ...               자동차정비           19  4441000\n",
              "\n",
              "[5 rows x 7 columns]"
            ]
          },
          "metadata": {
            "tags": []
          },
          "execution_count": 49
        }
      ]
    },
    {
      "cell_type": "code",
      "metadata": {
        "id": "5na2D3qsp_q5",
        "outputId": "165e684f-ecf7-4a7c-bf7b-7b3ac8cb1ada",
        "colab": {
          "base_uri": "https://localhost:8080/",
          "height": 202
        }
      },
      "source": [
        "region_seoul.head()"
      ],
      "execution_count": null,
      "outputs": [
        {
          "output_type": "execute_result",
          "data": {
            "text/html": [
              "<div>\n",
              "<style scoped>\n",
              "    .dataframe tbody tr th:only-of-type {\n",
              "        vertical-align: middle;\n",
              "    }\n",
              "\n",
              "    .dataframe tbody tr th {\n",
              "        vertical-align: top;\n",
              "    }\n",
              "\n",
              "    .dataframe thead th {\n",
              "        text-align: right;\n",
              "    }\n",
              "</style>\n",
              "<table border=\"1\" class=\"dataframe\">\n",
              "  <thead>\n",
              "    <tr style=\"text-align: right;\">\n",
              "      <th></th>\n",
              "      <th>adstrd_code</th>\n",
              "      <th>adstrd_nm</th>\n",
              "      <th>brtc_nm</th>\n",
              "      <th>signgu_nm</th>\n",
              "    </tr>\n",
              "  </thead>\n",
              "  <tbody>\n",
              "    <tr>\n",
              "      <th>0</th>\n",
              "      <td>11110515</td>\n",
              "      <td>청운효자동</td>\n",
              "      <td>서울특별시</td>\n",
              "      <td>종로구</td>\n",
              "    </tr>\n",
              "    <tr>\n",
              "      <th>1</th>\n",
              "      <td>11110530</td>\n",
              "      <td>사직동</td>\n",
              "      <td>서울특별시</td>\n",
              "      <td>종로구</td>\n",
              "    </tr>\n",
              "    <tr>\n",
              "      <th>2</th>\n",
              "      <td>11110540</td>\n",
              "      <td>삼청동</td>\n",
              "      <td>서울특별시</td>\n",
              "      <td>종로구</td>\n",
              "    </tr>\n",
              "    <tr>\n",
              "      <th>3</th>\n",
              "      <td>11110550</td>\n",
              "      <td>부암동</td>\n",
              "      <td>서울특별시</td>\n",
              "      <td>종로구</td>\n",
              "    </tr>\n",
              "    <tr>\n",
              "      <th>4</th>\n",
              "      <td>11110560</td>\n",
              "      <td>평창동</td>\n",
              "      <td>서울특별시</td>\n",
              "      <td>종로구</td>\n",
              "    </tr>\n",
              "  </tbody>\n",
              "</table>\n",
              "</div>"
            ],
            "text/plain": [
              "   adstrd_code adstrd_nm brtc_nm signgu_nm\n",
              "0     11110515     청운효자동   서울특별시       종로구\n",
              "1     11110530       사직동   서울특별시       종로구\n",
              "2     11110540       삼청동   서울특별시       종로구\n",
              "3     11110550       부암동   서울특별시       종로구\n",
              "4     11110560       평창동   서울특별시       종로구"
            ]
          },
          "metadata": {
            "tags": []
          },
          "execution_count": 50
        }
      ]
    },
    {
      "cell_type": "markdown",
      "metadata": {
        "id": "hOKjYfLDz2zB"
      },
      "source": [
        "### 구별로 수합"
      ]
    },
    {
      "cell_type": "code",
      "metadata": {
        "id": "xkDxKrAYpxH9"
      },
      "source": [
        "# 카드데이터에 시도명과 시군구명 추가\n",
        "card_dong = card.merge(region_seoul, how = 'left')\n",
        "# 시도명 제거\n",
        "card_dong.drop('brtc_nm', axis = 1, inplace = True)"
      ],
      "execution_count": null,
      "outputs": []
    },
    {
      "cell_type": "code",
      "metadata": {
        "id": "Dq-xWrLMqKAd",
        "outputId": "4a84dcad-e5b7-4691-9f4d-8bef80e8570d",
        "colab": {
          "base_uri": "https://localhost:8080/",
          "height": 202
        }
      },
      "source": [
        "card_dong.sort_values(by = ['base_ymd', 'signgu_nm', 'mrhst_induty_cl_code']).head()"
      ],
      "execution_count": null,
      "outputs": [
        {
          "output_type": "execute_result",
          "data": {
            "text/html": [
              "<div>\n",
              "<style scoped>\n",
              "    .dataframe tbody tr th:only-of-type {\n",
              "        vertical-align: middle;\n",
              "    }\n",
              "\n",
              "    .dataframe tbody tr th {\n",
              "        vertical-align: top;\n",
              "    }\n",
              "\n",
              "    .dataframe thead th {\n",
              "        text-align: right;\n",
              "    }\n",
              "</style>\n",
              "<table border=\"1\" class=\"dataframe\">\n",
              "  <thead>\n",
              "    <tr style=\"text-align: right;\">\n",
              "      <th></th>\n",
              "      <th>base_ymd</th>\n",
              "      <th>adstrd_code</th>\n",
              "      <th>adstrd_nm</th>\n",
              "      <th>mrhst_induty_cl_code</th>\n",
              "      <th>mrhst_induty_cl_nm</th>\n",
              "      <th>selng_cascnt</th>\n",
              "      <th>salamt</th>\n",
              "      <th>signgu_nm</th>\n",
              "    </tr>\n",
              "  </thead>\n",
              "  <tbody>\n",
              "    <tr>\n",
              "      <th>1334</th>\n",
              "      <td>20200104</td>\n",
              "      <td>11680580</td>\n",
              "      <td>삼성1동</td>\n",
              "      <td>1001</td>\n",
              "      <td>특급호텔</td>\n",
              "      <td>549</td>\n",
              "      <td>146315331</td>\n",
              "      <td>강남구</td>\n",
              "    </tr>\n",
              "    <tr>\n",
              "      <th>1066</th>\n",
              "      <td>20200104</td>\n",
              "      <td>11680650</td>\n",
              "      <td>역삼2동</td>\n",
              "      <td>1020</td>\n",
              "      <td>기타숙박업</td>\n",
              "      <td>86</td>\n",
              "      <td>16163585</td>\n",
              "      <td>강남구</td>\n",
              "    </tr>\n",
              "    <tr>\n",
              "      <th>1147</th>\n",
              "      <td>20200104</td>\n",
              "      <td>11680640</td>\n",
              "      <td>역삼1동</td>\n",
              "      <td>1020</td>\n",
              "      <td>기타숙박업</td>\n",
              "      <td>157</td>\n",
              "      <td>12910332</td>\n",
              "      <td>강남구</td>\n",
              "    </tr>\n",
              "    <tr>\n",
              "      <th>1297</th>\n",
              "      <td>20200104</td>\n",
              "      <td>11680590</td>\n",
              "      <td>삼성2동</td>\n",
              "      <td>1020</td>\n",
              "      <td>기타숙박업</td>\n",
              "      <td>49</td>\n",
              "      <td>2898484</td>\n",
              "      <td>강남구</td>\n",
              "    </tr>\n",
              "    <tr>\n",
              "      <th>1333</th>\n",
              "      <td>20200104</td>\n",
              "      <td>11680580</td>\n",
              "      <td>삼성1동</td>\n",
              "      <td>1020</td>\n",
              "      <td>기타숙박업</td>\n",
              "      <td>36</td>\n",
              "      <td>3054336</td>\n",
              "      <td>강남구</td>\n",
              "    </tr>\n",
              "  </tbody>\n",
              "</table>\n",
              "</div>"
            ],
            "text/plain": [
              "      base_ymd  adstrd_code adstrd_nm  ...  selng_cascnt     salamt  signgu_nm\n",
              "1334  20200104     11680580      삼성1동  ...           549  146315331        강남구\n",
              "1066  20200104     11680650      역삼2동  ...            86   16163585        강남구\n",
              "1147  20200104     11680640      역삼1동  ...           157   12910332        강남구\n",
              "1297  20200104     11680590      삼성2동  ...            49    2898484        강남구\n",
              "1333  20200104     11680580      삼성1동  ...            36    3054336        강남구\n",
              "\n",
              "[5 rows x 8 columns]"
            ]
          },
          "metadata": {
            "tags": []
          },
          "execution_count": 58
        }
      ]
    },
    {
      "cell_type": "code",
      "metadata": {
        "id": "ZckvtxThqMuM"
      },
      "source": [
        "# 일/동/업종명별 수치들을 일/구/업종명별로 수합\n",
        "card_gu = card_dong.groupby(['base_ymd', 'mrhst_induty_cl_code', 'mrhst_induty_cl_nm', 'signgu_nm'])[['selng_cascnt', 'salamt']].sum().reset_index().copy()"
      ],
      "execution_count": null,
      "outputs": []
    },
    {
      "cell_type": "code",
      "metadata": {
        "id": "tojnw981dZdn"
      },
      "source": [
        "# 열 이름 변경\n",
        "card_gu.columns = ['날짜', '업종코드', '업종명', '시군구', '판매건수', '매출액']"
      ],
      "execution_count": null,
      "outputs": []
    },
    {
      "cell_type": "code",
      "metadata": {
        "id": "4Ir1PPXW6EhK"
      },
      "source": [
        "card_gu.drop('업종코드', axis = 1, inplace = True)"
      ],
      "execution_count": null,
      "outputs": []
    },
    {
      "cell_type": "code",
      "metadata": {
        "id": "INPzs7TNysAo",
        "outputId": "8d9b25ba-90d0-4adb-e061-98f3425c3fdb",
        "colab": {
          "base_uri": "https://localhost:8080/",
          "height": 415
        }
      },
      "source": [
        "card_gu"
      ],
      "execution_count": null,
      "outputs": [
        {
          "output_type": "execute_result",
          "data": {
            "text/html": [
              "<div>\n",
              "<style scoped>\n",
              "    .dataframe tbody tr th:only-of-type {\n",
              "        vertical-align: middle;\n",
              "    }\n",
              "\n",
              "    .dataframe tbody tr th {\n",
              "        vertical-align: top;\n",
              "    }\n",
              "\n",
              "    .dataframe thead th {\n",
              "        text-align: right;\n",
              "    }\n",
              "</style>\n",
              "<table border=\"1\" class=\"dataframe\">\n",
              "  <thead>\n",
              "    <tr style=\"text-align: right;\">\n",
              "      <th></th>\n",
              "      <th>날짜</th>\n",
              "      <th>업종명</th>\n",
              "      <th>시군구</th>\n",
              "      <th>판매건수</th>\n",
              "      <th>매출액</th>\n",
              "    </tr>\n",
              "  </thead>\n",
              "  <tbody>\n",
              "    <tr>\n",
              "      <th>0</th>\n",
              "      <td>20200104</td>\n",
              "      <td>특급호텔</td>\n",
              "      <td>강남구</td>\n",
              "      <td>549</td>\n",
              "      <td>146315331</td>\n",
              "    </tr>\n",
              "    <tr>\n",
              "      <th>1</th>\n",
              "      <td>20200104</td>\n",
              "      <td>특급호텔</td>\n",
              "      <td>중구</td>\n",
              "      <td>928</td>\n",
              "      <td>239811377</td>\n",
              "    </tr>\n",
              "    <tr>\n",
              "      <th>2</th>\n",
              "      <td>20200104</td>\n",
              "      <td>1급호텔</td>\n",
              "      <td>중구</td>\n",
              "      <td>38</td>\n",
              "      <td>6941145</td>\n",
              "    </tr>\n",
              "    <tr>\n",
              "      <th>3</th>\n",
              "      <td>20200104</td>\n",
              "      <td>기타숙박업</td>\n",
              "      <td>강남구</td>\n",
              "      <td>444</td>\n",
              "      <td>57200876</td>\n",
              "    </tr>\n",
              "    <tr>\n",
              "      <th>4</th>\n",
              "      <td>20200104</td>\n",
              "      <td>기타숙박업</td>\n",
              "      <td>강동구</td>\n",
              "      <td>180</td>\n",
              "      <td>7928000</td>\n",
              "    </tr>\n",
              "    <tr>\n",
              "      <th>...</th>\n",
              "      <td>...</td>\n",
              "      <td>...</td>\n",
              "      <td>...</td>\n",
              "      <td>...</td>\n",
              "      <td>...</td>\n",
              "    </tr>\n",
              "    <tr>\n",
              "      <th>573901</th>\n",
              "      <td>20200614</td>\n",
              "      <td>기타전문점</td>\n",
              "      <td>용산구</td>\n",
              "      <td>185</td>\n",
              "      <td>2793400</td>\n",
              "    </tr>\n",
              "    <tr>\n",
              "      <th>573902</th>\n",
              "      <td>20200614</td>\n",
              "      <td>기타전문점</td>\n",
              "      <td>은평구</td>\n",
              "      <td>42</td>\n",
              "      <td>1630800</td>\n",
              "    </tr>\n",
              "    <tr>\n",
              "      <th>573903</th>\n",
              "      <td>20200614</td>\n",
              "      <td>기타전문점</td>\n",
              "      <td>종로구</td>\n",
              "      <td>208</td>\n",
              "      <td>5054760</td>\n",
              "    </tr>\n",
              "    <tr>\n",
              "      <th>573904</th>\n",
              "      <td>20200614</td>\n",
              "      <td>기타전문점</td>\n",
              "      <td>중구</td>\n",
              "      <td>119</td>\n",
              "      <td>4728850</td>\n",
              "    </tr>\n",
              "    <tr>\n",
              "      <th>573905</th>\n",
              "      <td>20200614</td>\n",
              "      <td>기타전문점</td>\n",
              "      <td>중랑구</td>\n",
              "      <td>44</td>\n",
              "      <td>1875000</td>\n",
              "    </tr>\n",
              "  </tbody>\n",
              "</table>\n",
              "<p>573906 rows × 5 columns</p>\n",
              "</div>"
            ],
            "text/plain": [
              "              날짜    업종명  시군구  판매건수        매출액\n",
              "0       20200104   특급호텔  강남구   549  146315331\n",
              "1       20200104   특급호텔   중구   928  239811377\n",
              "2       20200104   1급호텔   중구    38    6941145\n",
              "3       20200104  기타숙박업  강남구   444   57200876\n",
              "4       20200104  기타숙박업  강동구   180    7928000\n",
              "...          ...    ...  ...   ...        ...\n",
              "573901  20200614  기타전문점  용산구   185    2793400\n",
              "573902  20200614  기타전문점  은평구    42    1630800\n",
              "573903  20200614  기타전문점  종로구   208    5054760\n",
              "573904  20200614  기타전문점   중구   119    4728850\n",
              "573905  20200614  기타전문점  중랑구    44    1875000\n",
              "\n",
              "[573906 rows x 5 columns]"
            ]
          },
          "metadata": {
            "tags": []
          },
          "execution_count": 75
        }
      ]
    },
    {
      "cell_type": "code",
      "metadata": {
        "id": "UC7-K3T4mEpF"
      },
      "source": [
        "# card_gu.to_csv('card_gu.csv', index = False)"
      ],
      "execution_count": null,
      "outputs": []
    },
    {
      "cell_type": "markdown",
      "metadata": {
        "id": "R6HZnIVqz9mZ"
      },
      "source": [
        "## 유동인구와 카드데이터 결합"
      ]
    },
    {
      "cell_type": "code",
      "metadata": {
        "id": "TMjhlHEYxDne",
        "outputId": "b7195dd5-7161-4545-9af8-8b6d671ee635",
        "colab": {
          "base_uri": "https://localhost:8080/",
          "height": 202
        }
      },
      "source": [
        "pop_sum_final2.head()"
      ],
      "execution_count": null,
      "outputs": [
        {
          "output_type": "execute_result",
          "data": {
            "text/html": [
              "<div>\n",
              "<style scoped>\n",
              "    .dataframe tbody tr th:only-of-type {\n",
              "        vertical-align: middle;\n",
              "    }\n",
              "\n",
              "    .dataframe tbody tr th {\n",
              "        vertical-align: top;\n",
              "    }\n",
              "\n",
              "    .dataframe thead th {\n",
              "        text-align: right;\n",
              "    }\n",
              "</style>\n",
              "<table border=\"1\" class=\"dataframe\">\n",
              "  <thead>\n",
              "    <tr style=\"text-align: right;\">\n",
              "      <th></th>\n",
              "      <th>날짜</th>\n",
              "      <th>시군구</th>\n",
              "      <th>유동인구</th>\n",
              "    </tr>\n",
              "  </thead>\n",
              "  <tbody>\n",
              "    <tr>\n",
              "      <th>0</th>\n",
              "      <td>20200104</td>\n",
              "      <td>강남구</td>\n",
              "      <td>4268654</td>\n",
              "    </tr>\n",
              "    <tr>\n",
              "      <th>1</th>\n",
              "      <td>20200104</td>\n",
              "      <td>강동구</td>\n",
              "      <td>2425402</td>\n",
              "    </tr>\n",
              "    <tr>\n",
              "      <th>2</th>\n",
              "      <td>20200104</td>\n",
              "      <td>강북구</td>\n",
              "      <td>1036862</td>\n",
              "    </tr>\n",
              "    <tr>\n",
              "      <th>3</th>\n",
              "      <td>20200104</td>\n",
              "      <td>강서구</td>\n",
              "      <td>2465692</td>\n",
              "    </tr>\n",
              "    <tr>\n",
              "      <th>4</th>\n",
              "      <td>20200104</td>\n",
              "      <td>관악구</td>\n",
              "      <td>1977717</td>\n",
              "    </tr>\n",
              "  </tbody>\n",
              "</table>\n",
              "</div>"
            ],
            "text/plain": [
              "         날짜  시군구     유동인구\n",
              "0  20200104  강남구  4268654\n",
              "1  20200104  강동구  2425402\n",
              "2  20200104  강북구  1036862\n",
              "3  20200104  강서구  2465692\n",
              "4  20200104  관악구  1977717"
            ]
          },
          "metadata": {
            "tags": []
          },
          "execution_count": 63
        }
      ]
    },
    {
      "cell_type": "code",
      "metadata": {
        "id": "KHVTGjvcxgu6"
      },
      "source": [
        "# 유동인구와 카드데이터 결합\n",
        "df = card_gu.merge(pop_sum_final2, how = 'left')"
      ],
      "execution_count": null,
      "outputs": []
    },
    {
      "cell_type": "code",
      "metadata": {
        "id": "eektNw-wN8aj",
        "outputId": "dcbb440c-5b53-400e-f323-d07821b0534d",
        "colab": {
          "base_uri": "https://localhost:8080/",
          "height": 202
        }
      },
      "source": [
        "df.head()"
      ],
      "execution_count": null,
      "outputs": [
        {
          "output_type": "execute_result",
          "data": {
            "text/html": [
              "<div>\n",
              "<style scoped>\n",
              "    .dataframe tbody tr th:only-of-type {\n",
              "        vertical-align: middle;\n",
              "    }\n",
              "\n",
              "    .dataframe tbody tr th {\n",
              "        vertical-align: top;\n",
              "    }\n",
              "\n",
              "    .dataframe thead th {\n",
              "        text-align: right;\n",
              "    }\n",
              "</style>\n",
              "<table border=\"1\" class=\"dataframe\">\n",
              "  <thead>\n",
              "    <tr style=\"text-align: right;\">\n",
              "      <th></th>\n",
              "      <th>날짜</th>\n",
              "      <th>업종코드</th>\n",
              "      <th>업종명</th>\n",
              "      <th>시군구</th>\n",
              "      <th>판매건수</th>\n",
              "      <th>매출액</th>\n",
              "      <th>유동인구</th>\n",
              "    </tr>\n",
              "  </thead>\n",
              "  <tbody>\n",
              "    <tr>\n",
              "      <th>0</th>\n",
              "      <td>20200104</td>\n",
              "      <td>1001</td>\n",
              "      <td>특급호텔</td>\n",
              "      <td>강남구</td>\n",
              "      <td>549</td>\n",
              "      <td>146315331</td>\n",
              "      <td>4268654</td>\n",
              "    </tr>\n",
              "    <tr>\n",
              "      <th>1</th>\n",
              "      <td>20200104</td>\n",
              "      <td>1001</td>\n",
              "      <td>특급호텔</td>\n",
              "      <td>중구</td>\n",
              "      <td>928</td>\n",
              "      <td>239811377</td>\n",
              "      <td>1669677</td>\n",
              "    </tr>\n",
              "    <tr>\n",
              "      <th>2</th>\n",
              "      <td>20200104</td>\n",
              "      <td>1002</td>\n",
              "      <td>1급호텔</td>\n",
              "      <td>중구</td>\n",
              "      <td>38</td>\n",
              "      <td>6941145</td>\n",
              "      <td>1669677</td>\n",
              "    </tr>\n",
              "    <tr>\n",
              "      <th>3</th>\n",
              "      <td>20200104</td>\n",
              "      <td>1020</td>\n",
              "      <td>기타숙박업</td>\n",
              "      <td>강남구</td>\n",
              "      <td>444</td>\n",
              "      <td>57200876</td>\n",
              "      <td>4268654</td>\n",
              "    </tr>\n",
              "    <tr>\n",
              "      <th>4</th>\n",
              "      <td>20200104</td>\n",
              "      <td>1020</td>\n",
              "      <td>기타숙박업</td>\n",
              "      <td>강동구</td>\n",
              "      <td>180</td>\n",
              "      <td>7928000</td>\n",
              "      <td>2425402</td>\n",
              "    </tr>\n",
              "  </tbody>\n",
              "</table>\n",
              "</div>"
            ],
            "text/plain": [
              "         날짜  업종코드    업종명  시군구  판매건수        매출액     유동인구\n",
              "0  20200104  1001   특급호텔  강남구   549  146315331  4268654\n",
              "1  20200104  1001   특급호텔   중구   928  239811377  1669677\n",
              "2  20200104  1002   1급호텔   중구    38    6941145  1669677\n",
              "3  20200104  1020  기타숙박업  강남구   444   57200876  4268654\n",
              "4  20200104  1020  기타숙박업  강동구   180    7928000  2425402"
            ]
          },
          "metadata": {
            "tags": []
          },
          "execution_count": 65
        }
      ]
    },
    {
      "cell_type": "markdown",
      "metadata": {
        "id": "o9n_VWUHTZJJ"
      },
      "source": [
        "# 결합데이터 전처리"
      ]
    },
    {
      "cell_type": "code",
      "metadata": {
        "id": "4OsDRUOP1Woj",
        "outputId": "40dc94c0-2d1b-4336-cbaf-06df12e24aca",
        "colab": {
          "base_uri": "https://localhost:8080/",
          "height": 202
        }
      },
      "source": [
        "df.head()"
      ],
      "execution_count": null,
      "outputs": [
        {
          "output_type": "execute_result",
          "data": {
            "text/html": [
              "<div>\n",
              "<style scoped>\n",
              "    .dataframe tbody tr th:only-of-type {\n",
              "        vertical-align: middle;\n",
              "    }\n",
              "\n",
              "    .dataframe tbody tr th {\n",
              "        vertical-align: top;\n",
              "    }\n",
              "\n",
              "    .dataframe thead th {\n",
              "        text-align: right;\n",
              "    }\n",
              "</style>\n",
              "<table border=\"1\" class=\"dataframe\">\n",
              "  <thead>\n",
              "    <tr style=\"text-align: right;\">\n",
              "      <th></th>\n",
              "      <th>base_ymd</th>\n",
              "      <th>mrhst_induty_cl_code</th>\n",
              "      <th>mrhst_induty_cl_nm</th>\n",
              "      <th>signgu_nm</th>\n",
              "      <th>selng_cascnt</th>\n",
              "      <th>salamt</th>\n",
              "      <th>popltn_cascnt2</th>\n",
              "    </tr>\n",
              "  </thead>\n",
              "  <tbody>\n",
              "    <tr>\n",
              "      <th>0</th>\n",
              "      <td>2020-01-04</td>\n",
              "      <td>1001</td>\n",
              "      <td>특급호텔</td>\n",
              "      <td>강남구</td>\n",
              "      <td>549</td>\n",
              "      <td>146315331</td>\n",
              "      <td>4268654</td>\n",
              "    </tr>\n",
              "    <tr>\n",
              "      <th>1</th>\n",
              "      <td>2020-01-04</td>\n",
              "      <td>1001</td>\n",
              "      <td>특급호텔</td>\n",
              "      <td>중구</td>\n",
              "      <td>928</td>\n",
              "      <td>239811377</td>\n",
              "      <td>1669677</td>\n",
              "    </tr>\n",
              "    <tr>\n",
              "      <th>2</th>\n",
              "      <td>2020-01-04</td>\n",
              "      <td>1002</td>\n",
              "      <td>1급호텔</td>\n",
              "      <td>중구</td>\n",
              "      <td>38</td>\n",
              "      <td>6941145</td>\n",
              "      <td>1669677</td>\n",
              "    </tr>\n",
              "    <tr>\n",
              "      <th>3</th>\n",
              "      <td>2020-01-04</td>\n",
              "      <td>1020</td>\n",
              "      <td>기타숙박업</td>\n",
              "      <td>강남구</td>\n",
              "      <td>444</td>\n",
              "      <td>57200876</td>\n",
              "      <td>4268654</td>\n",
              "    </tr>\n",
              "    <tr>\n",
              "      <th>4</th>\n",
              "      <td>2020-01-04</td>\n",
              "      <td>1020</td>\n",
              "      <td>기타숙박업</td>\n",
              "      <td>강동구</td>\n",
              "      <td>180</td>\n",
              "      <td>7928000</td>\n",
              "      <td>2425402</td>\n",
              "    </tr>\n",
              "  </tbody>\n",
              "</table>\n",
              "</div>"
            ],
            "text/plain": [
              "    base_ymd  mrhst_induty_cl_code  ...     salamt popltn_cascnt2\n",
              "0 2020-01-04                  1001  ...  146315331        4268654\n",
              "1 2020-01-04                  1001  ...  239811377        1669677\n",
              "2 2020-01-04                  1002  ...    6941145        1669677\n",
              "3 2020-01-04                  1020  ...   57200876        4268654\n",
              "4 2020-01-04                  1020  ...    7928000        2425402\n",
              "\n",
              "[5 rows x 7 columns]"
            ]
          },
          "metadata": {
            "tags": []
          },
          "execution_count": 74
        }
      ]
    },
    {
      "cell_type": "code",
      "metadata": {
        "id": "hbXX32mDT6rw"
      },
      "source": [
        "# 일자 Datetime으로 변환\n",
        "df.base_ymd = pd.to_datetime(df.base_ymd, format = '%Y%m%d')"
      ],
      "execution_count": null,
      "outputs": []
    },
    {
      "cell_type": "code",
      "metadata": {
        "id": "sAs6pZecT64V"
      },
      "source": [
        "# 각 열 이름 변환\n",
        "df.columns = ['날짜', '업종코드', '업종명', '시군구', '판매건수', '매출액',  '유동인구합']"
      ],
      "execution_count": null,
      "outputs": []
    },
    {
      "cell_type": "code",
      "metadata": {
        "id": "DHoAL5H21iJa",
        "outputId": "4f7ecde3-c0d4-4d9d-c2e8-9bc1e2330898",
        "colab": {
          "base_uri": "https://localhost:8080/",
          "height": 260
        }
      },
      "source": [
        "df.info()"
      ],
      "execution_count": null,
      "outputs": [
        {
          "output_type": "stream",
          "text": [
            "<class 'pandas.core.frame.DataFrame'>\n",
            "Int64Index: 573906 entries, 0 to 573905\n",
            "Data columns (total 7 columns):\n",
            " #   Column  Non-Null Count   Dtype         \n",
            "---  ------  --------------   -----         \n",
            " 0   날짜      573906 non-null  datetime64[ns]\n",
            " 1   업종코드    573906 non-null  int64         \n",
            " 2   업종명     573906 non-null  object        \n",
            " 3   시군구     573906 non-null  object        \n",
            " 4   판매건수    573906 non-null  int64         \n",
            " 5   매출액     573906 non-null  int64         \n",
            " 6   유동인구합   573906 non-null  int64         \n",
            "dtypes: datetime64[ns](1), int64(4), object(2)\n",
            "memory usage: 35.0+ MB\n"
          ],
          "name": "stdout"
        }
      ]
    },
    {
      "cell_type": "markdown",
      "metadata": {
        "id": "omfWXSlZ0yhU"
      },
      "source": [
        "## 분석하지 않는 업종명 제거"
      ]
    },
    {
      "cell_type": "code",
      "metadata": {
        "id": "RjffTMnn1vlF",
        "outputId": "2a69afba-db2e-491b-aa12-63d6e798519c",
        "colab": {
          "base_uri": "https://localhost:8080/",
          "height": 202
        }
      },
      "source": [
        "df.head()"
      ],
      "execution_count": null,
      "outputs": [
        {
          "output_type": "execute_result",
          "data": {
            "text/html": [
              "<div>\n",
              "<style scoped>\n",
              "    .dataframe tbody tr th:only-of-type {\n",
              "        vertical-align: middle;\n",
              "    }\n",
              "\n",
              "    .dataframe tbody tr th {\n",
              "        vertical-align: top;\n",
              "    }\n",
              "\n",
              "    .dataframe thead th {\n",
              "        text-align: right;\n",
              "    }\n",
              "</style>\n",
              "<table border=\"1\" class=\"dataframe\">\n",
              "  <thead>\n",
              "    <tr style=\"text-align: right;\">\n",
              "      <th></th>\n",
              "      <th>날짜</th>\n",
              "      <th>업종코드</th>\n",
              "      <th>업종명</th>\n",
              "      <th>시군구</th>\n",
              "      <th>판매건수</th>\n",
              "      <th>매출액</th>\n",
              "      <th>유동인구합</th>\n",
              "    </tr>\n",
              "  </thead>\n",
              "  <tbody>\n",
              "    <tr>\n",
              "      <th>0</th>\n",
              "      <td>2020-01-04</td>\n",
              "      <td>1001</td>\n",
              "      <td>특급호텔</td>\n",
              "      <td>강남구</td>\n",
              "      <td>549</td>\n",
              "      <td>146315331</td>\n",
              "      <td>4268654</td>\n",
              "    </tr>\n",
              "    <tr>\n",
              "      <th>1</th>\n",
              "      <td>2020-01-04</td>\n",
              "      <td>1001</td>\n",
              "      <td>특급호텔</td>\n",
              "      <td>중구</td>\n",
              "      <td>928</td>\n",
              "      <td>239811377</td>\n",
              "      <td>1669677</td>\n",
              "    </tr>\n",
              "    <tr>\n",
              "      <th>2</th>\n",
              "      <td>2020-01-04</td>\n",
              "      <td>1002</td>\n",
              "      <td>1급호텔</td>\n",
              "      <td>중구</td>\n",
              "      <td>38</td>\n",
              "      <td>6941145</td>\n",
              "      <td>1669677</td>\n",
              "    </tr>\n",
              "    <tr>\n",
              "      <th>3</th>\n",
              "      <td>2020-01-04</td>\n",
              "      <td>1020</td>\n",
              "      <td>기타숙박업</td>\n",
              "      <td>강남구</td>\n",
              "      <td>444</td>\n",
              "      <td>57200876</td>\n",
              "      <td>4268654</td>\n",
              "    </tr>\n",
              "    <tr>\n",
              "      <th>4</th>\n",
              "      <td>2020-01-04</td>\n",
              "      <td>1020</td>\n",
              "      <td>기타숙박업</td>\n",
              "      <td>강동구</td>\n",
              "      <td>180</td>\n",
              "      <td>7928000</td>\n",
              "      <td>2425402</td>\n",
              "    </tr>\n",
              "  </tbody>\n",
              "</table>\n",
              "</div>"
            ],
            "text/plain": [
              "          날짜  업종코드    업종명  시군구  판매건수        매출액    유동인구합\n",
              "0 2020-01-04  1001   특급호텔  강남구   549  146315331  4268654\n",
              "1 2020-01-04  1001   특급호텔   중구   928  239811377  1669677\n",
              "2 2020-01-04  1002   1급호텔   중구    38    6941145  1669677\n",
              "3 2020-01-04  1020  기타숙박업  강남구   444   57200876  4268654\n",
              "4 2020-01-04  1020  기타숙박업  강동구   180    7928000  2425402"
            ]
          },
          "metadata": {
            "tags": []
          },
          "execution_count": 77
        }
      ]
    },
    {
      "cell_type": "code",
      "metadata": {
        "id": "oNguJ2fEo0tY"
      },
      "source": [
        "# 제거할 업종명\n",
        "delete = ['의료용품', '제약회사', '초중고교육기관', '기타운송', '화물운송', '사무통신기기수리', '사무기기', '중고자동차위탁판매', '자동차부품', \n",
        "          '위탁급식업', '미곡상', '옷감직물', '기타직물', '농축수산품', '기타건축자재', '기계공구', '비영리', '사무서비스', '기타대인서비스', '기타사무용품',\n",
        "          '출판인쇄물', '기타유통업', '종합용역', '조세서비스(특약)', '조세서비스', '법률회계서비스(법인)', '법률회계서비스(개인)', '전자(상우회)',\n",
        "          '기타용역서비스', '보일러펌프샷시', '과학기자재', '비씨카드정산용(할인)', '비영리/비대상', '보관창고업', '냉열기기', '기타광학품', '유리',\n",
        "          '사무서비스(회원제형태)', '사업자미등록개인', '기타비영리유통', '중장비수리', '기타농업관련', '자체물품대금', '비료/농약/사료/종자', \n",
        "          '농기계', '건축요업품', '미용재료', '페인트', '윤활유전문판매', '기타연료', '유류판매']"
      ],
      "execution_count": null,
      "outputs": []
    },
    {
      "cell_type": "code",
      "metadata": {
        "id": "raIGJwju1uUU",
        "outputId": "e0a2e0dd-36b3-4b51-faa7-8d5750ff745d",
        "colab": {
          "base_uri": "https://localhost:8080/",
          "height": 470
        }
      },
      "source": [
        "# 업종명 제거\n",
        "df_del = df[~df['업종명'].isin(delete_str)].copy()\n",
        "df_del"
      ],
      "execution_count": null,
      "outputs": [
        {
          "output_type": "stream",
          "text": [
            "/usr/local/lib/python3.6/dist-packages/pandas/core/strings.py:1954: UserWarning: This pattern has match groups. To actually get the groups, use str.extract.\n",
            "  return func(self, *args, **kwargs)\n"
          ],
          "name": "stderr"
        },
        {
          "output_type": "execute_result",
          "data": {
            "text/html": [
              "<div>\n",
              "<style scoped>\n",
              "    .dataframe tbody tr th:only-of-type {\n",
              "        vertical-align: middle;\n",
              "    }\n",
              "\n",
              "    .dataframe tbody tr th {\n",
              "        vertical-align: top;\n",
              "    }\n",
              "\n",
              "    .dataframe thead th {\n",
              "        text-align: right;\n",
              "    }\n",
              "</style>\n",
              "<table border=\"1\" class=\"dataframe\">\n",
              "  <thead>\n",
              "    <tr style=\"text-align: right;\">\n",
              "      <th></th>\n",
              "      <th>날짜</th>\n",
              "      <th>업종코드</th>\n",
              "      <th>업종명</th>\n",
              "      <th>시군구</th>\n",
              "      <th>판매건수</th>\n",
              "      <th>매출액</th>\n",
              "      <th>유동인구합</th>\n",
              "    </tr>\n",
              "  </thead>\n",
              "  <tbody>\n",
              "    <tr>\n",
              "      <th>0</th>\n",
              "      <td>2020-01-04</td>\n",
              "      <td>1001</td>\n",
              "      <td>특급호텔</td>\n",
              "      <td>강남구</td>\n",
              "      <td>549</td>\n",
              "      <td>146315331</td>\n",
              "      <td>4268654</td>\n",
              "    </tr>\n",
              "    <tr>\n",
              "      <th>1</th>\n",
              "      <td>2020-01-04</td>\n",
              "      <td>1001</td>\n",
              "      <td>특급호텔</td>\n",
              "      <td>중구</td>\n",
              "      <td>928</td>\n",
              "      <td>239811377</td>\n",
              "      <td>1669677</td>\n",
              "    </tr>\n",
              "    <tr>\n",
              "      <th>2</th>\n",
              "      <td>2020-01-04</td>\n",
              "      <td>1002</td>\n",
              "      <td>1급호텔</td>\n",
              "      <td>중구</td>\n",
              "      <td>38</td>\n",
              "      <td>6941145</td>\n",
              "      <td>1669677</td>\n",
              "    </tr>\n",
              "    <tr>\n",
              "      <th>3</th>\n",
              "      <td>2020-01-04</td>\n",
              "      <td>1020</td>\n",
              "      <td>기타숙박업</td>\n",
              "      <td>강남구</td>\n",
              "      <td>444</td>\n",
              "      <td>57200876</td>\n",
              "      <td>4268654</td>\n",
              "    </tr>\n",
              "    <tr>\n",
              "      <th>4</th>\n",
              "      <td>2020-01-04</td>\n",
              "      <td>1020</td>\n",
              "      <td>기타숙박업</td>\n",
              "      <td>강동구</td>\n",
              "      <td>180</td>\n",
              "      <td>7928000</td>\n",
              "      <td>2425402</td>\n",
              "    </tr>\n",
              "    <tr>\n",
              "      <th>...</th>\n",
              "      <td>...</td>\n",
              "      <td>...</td>\n",
              "      <td>...</td>\n",
              "      <td>...</td>\n",
              "      <td>...</td>\n",
              "      <td>...</td>\n",
              "      <td>...</td>\n",
              "    </tr>\n",
              "    <tr>\n",
              "      <th>573901</th>\n",
              "      <td>2020-06-14</td>\n",
              "      <td>9998</td>\n",
              "      <td>기타전문점</td>\n",
              "      <td>용산구</td>\n",
              "      <td>185</td>\n",
              "      <td>2793400</td>\n",
              "      <td>1848525</td>\n",
              "    </tr>\n",
              "    <tr>\n",
              "      <th>573902</th>\n",
              "      <td>2020-06-14</td>\n",
              "      <td>9998</td>\n",
              "      <td>기타전문점</td>\n",
              "      <td>은평구</td>\n",
              "      <td>42</td>\n",
              "      <td>1630800</td>\n",
              "      <td>1436435</td>\n",
              "    </tr>\n",
              "    <tr>\n",
              "      <th>573903</th>\n",
              "      <td>2020-06-14</td>\n",
              "      <td>9998</td>\n",
              "      <td>기타전문점</td>\n",
              "      <td>종로구</td>\n",
              "      <td>208</td>\n",
              "      <td>5054760</td>\n",
              "      <td>1269669</td>\n",
              "    </tr>\n",
              "    <tr>\n",
              "      <th>573904</th>\n",
              "      <td>2020-06-14</td>\n",
              "      <td>9998</td>\n",
              "      <td>기타전문점</td>\n",
              "      <td>중구</td>\n",
              "      <td>119</td>\n",
              "      <td>4728850</td>\n",
              "      <td>1166980</td>\n",
              "    </tr>\n",
              "    <tr>\n",
              "      <th>573905</th>\n",
              "      <td>2020-06-14</td>\n",
              "      <td>9998</td>\n",
              "      <td>기타전문점</td>\n",
              "      <td>중랑구</td>\n",
              "      <td>44</td>\n",
              "      <td>1875000</td>\n",
              "      <td>1436522</td>\n",
              "    </tr>\n",
              "  </tbody>\n",
              "</table>\n",
              "<p>474854 rows × 7 columns</p>\n",
              "</div>"
            ],
            "text/plain": [
              "               날짜  업종코드    업종명  시군구  판매건수        매출액    유동인구합\n",
              "0      2020-01-04  1001   특급호텔  강남구   549  146315331  4268654\n",
              "1      2020-01-04  1001   특급호텔   중구   928  239811377  1669677\n",
              "2      2020-01-04  1002   1급호텔   중구    38    6941145  1669677\n",
              "3      2020-01-04  1020  기타숙박업  강남구   444   57200876  4268654\n",
              "4      2020-01-04  1020  기타숙박업  강동구   180    7928000  2425402\n",
              "...           ...   ...    ...  ...   ...        ...      ...\n",
              "573901 2020-06-14  9998  기타전문점  용산구   185    2793400  1848525\n",
              "573902 2020-06-14  9998  기타전문점  은평구    42    1630800  1436435\n",
              "573903 2020-06-14  9998  기타전문점  종로구   208    5054760  1269669\n",
              "573904 2020-06-14  9998  기타전문점   중구   119    4728850  1166980\n",
              "573905 2020-06-14  9998  기타전문점  중랑구    44    1875000  1436522\n",
              "\n",
              "[474854 rows x 7 columns]"
            ]
          },
          "metadata": {
            "tags": []
          },
          "execution_count": 91
        }
      ]
    },
    {
      "cell_type": "code",
      "metadata": {
        "id": "w1O8yxQv43cN",
        "outputId": "ff42bd3a-6f4f-4fdb-93dd-b25680dbea72",
        "colab": {
          "base_uri": "https://localhost:8080/",
          "height": 35
        }
      },
      "source": [
        "# 제거 후 업종명 개수 확인\n",
        "len(df_del.업종명.unique())"
      ],
      "execution_count": null,
      "outputs": [
        {
          "output_type": "execute_result",
          "data": {
            "text/plain": [
              "213"
            ]
          },
          "metadata": {
            "tags": []
          },
          "execution_count": 93
        }
      ]
    },
    {
      "cell_type": "markdown",
      "metadata": {
        "id": "8KXreb5F1pwe"
      },
      "source": [
        "## 업종명 업계로 분류"
      ]
    },
    {
      "cell_type": "code",
      "metadata": {
        "id": "jZw8dBKd11Zp",
        "outputId": "4bf3bdbe-8c45-46a6-e15f-f37819758ccb",
        "colab": {
          "base_uri": "https://localhost:8080/",
          "height": 537
        }
      },
      "source": [
        "# 업종명들을 업계로 분류하기 위해 업종명 확인\n",
        "df_del.업종명.unique()"
      ],
      "execution_count": null,
      "outputs": [
        {
          "output_type": "execute_result",
          "data": {
            "text/plain": [
              "array(['특급호텔', '1급호텔', '기타숙박업', '항공사', '관광여행', '택시', '골프용품', '스포츠레져용품',\n",
              "       '악기점', '골프연습장', '스크린골프', '헬스크럽', '당구장', '노래방', '기타레져업', '화랑',\n",
              "       '화방표구점', '민예공예품', '수족관', '화원', '애완동물', '영화관', '티켓', '일반가구', '기타가구',\n",
              "       '가전제품', '기타전기제품', '주방용구', '주방용식기', '주유소', '카메라', '사진관',\n",
              "       '자사카드발행백화점', '대형할인점', '편의점', '슈퍼마켓', '농축수산가공품', 'CATV홈쇼핑',\n",
              "       '인터넷P/G', '인터넷종합Mall', '인터넷Mall', '상품권', '상품권전문판매', '전자상거래상품권전문판매',\n",
              "       '구내매점(국가기관등)', '정장', '아동의류', '내의판매점', '스포츠의류', '맞춤복점', '기타의류',\n",
              "       '침구수예점', '가방', '시계', '귀금속', '악세사리', '제화점', '신발', '기념품점', '기타잡화',\n",
              "       '일반서적', '문구용품', '완구점', '기타서적문구', '외국어학원', '기능학원', '컴퓨터학원', '예체능학원',\n",
              "       '보습학원', '유아원', '독서실', '기타교육', '컴퓨터', '통신기기', '전자(상우회)', '수입자동차',\n",
              "       '이륜차판매', '자동차시트/타이어', '자동차정비', '세차장', '주차장', '종합병원', '병원', '의원',\n",
              "       '한의원', '치과의원', '약국', '한약방', '동물병원', '이용원', '미용원', '피부미용실', '안경',\n",
              "       '화장품', '사우나', '안마/스포츠마사지', '일반한식', '일식회집', '중국음식', '서양음식', '칵테일바',\n",
              "       '주점', '스넥', '유흥주점', '단란주점', '제과점', '정육점', '주류판매점', '기타음료식품',\n",
              "       '홍삼제품', '인삼제품', '기타건강식', '조명기구', '인테리어', '혼례서비스', '법률회계서비스(개인)',\n",
              "       '부동산중개/임대', '소프트웨어', '법률회계서비스(법인)', '가정용품수리', '세탁소', '레져업소(회원제형태)',\n",
              "       '서적출판(회원제형태)', '학원(회원제형태)', '기타회원제형태업소4', '기타전문점', '2급호텔',\n",
              "       '문화취미기타', '성인용품점', '전문서적', '기타의료기관및기타의료기기', '면세점', 'PG상품권', '손해보험',\n",
              "       '비씨카드정산용(할인)', '기타수리서비스', '생명보험', '통신판매(일반)', '신변잡화수리', '양품점',\n",
              "       '이동통신요금', '카인테리어', '장례서비스', '콘도', '고속버스', '철도', '여객선', '렌트카',\n",
              "       '기타교통수단', '피아노대리점', '골프경기장', '카지노', '스키장', '볼링장', '테니스장', '수영장',\n",
              "       '종합레져타운', '골동품점', '철제가구', '정수기', '기타주방용구', 'LPG', '전기차충전소',\n",
              "       '일반백화점', '연쇄점', '통신판매1', '통신판매2', '전자상거래상품권', '공무원연금매점', '와이셔츠/타이',\n",
              "       '캐쥬얼의류', '단체복', '혼수전문점', '정기간행물', '교육테이프', '학습지교육', '대학등록금', '유치원',\n",
              "       '유학원', '국산신차', '중고자동차', '국산신차직영부품/정비업소', '견인서비스', '기타자동차서비스',\n",
              "       '기타보험', '한방병원', '치과병원', '조산원', '산후조리원', '건강진단', '갈비전문점', '한정식',\n",
              "       '부동산분양', '정보서비스', '공공요금', '공공요금/대상', '통신서비스/비대상', '통신서비스', 'CATV',\n",
              "       '위성방송', '레져용품수리', '자동차서비스(회원제형태)', '건강식품(회원제형태)', '기타회원제형태업소1',\n",
              "       '기타회원제형태업소2', '기타회원제형태업소3', '기타회원제형태업소5', '외국인전용가맹점',\n",
              "       '통신판매(생활서비스)', '통신기기무이자할부', '총포류판매', '택시회사', 'P2P송금'], dtype=object)"
            ]
          },
          "metadata": {
            "tags": []
          },
          "execution_count": 92
        }
      ]
    },
    {
      "cell_type": "code",
      "metadata": {
        "id": "zhONFVH8TmLQ"
      },
      "source": [
        "# 업종명 분류 함수 정의\n",
        "def sort_induty(x):\n",
        "  a = ''\n",
        "  if x in ['약국', '치과의원', '한의원', '의원', '병원', '종합병원', '기타의료기관및기타의료기기', '산후조리원', '한방병원', '조산원', '안경', '의료용품', \n",
        "           '치과병원', '건강진단', '제약회사']:\n",
        "    a = '메디컬'\n",
        "  elif x in ['기타교육', '보습학원', '예체능학원', '유아원', '학원(회원제형태)', '독서실', '외국어학원', '기능학원', '학습지교육', '초중고교육기관', \n",
        "             '유학원', '유치원', '컴퓨터학원', '교육테이프', '대학등록금']:\n",
        "    a = '교육'\n",
        "  elif x in ['미용원', '이용원']:\n",
        "    a = '패션&뷰티'\n",
        "  elif x in ['인터넷Mall', '인터넷종합Mall', '인터넷P/G', 'CATV홈쇼핑', '통신판매1', '통신판매2', '통신판매(생활서비스)', '통신판매(일반)']:\n",
        "    a = '비대면쇼핑'\n",
        "  elif x in ['고속버스', '택시회사', '택시', '철도', '항공사', '여객선', '렌트카', '기타운송', '기타교통수단', '화물운송']:\n",
        "    a = '이동수단'\n",
        "  elif x in ['CATV', '통신기기', '통신기기무이자할부', '카메라', '통신서비스', '통신서비스/비대상', '이동통신요금', '정보서비스', '컴퓨터', \n",
        "             '위성방송', '사무통신기기수리', '사무기기', '소프트웨어']:\n",
        "    a = 'IT'\n",
        "  elif x in ['중고자동차위탁판매', '중고자동차', '국산신차', '자동차부품', '자동차시트/타이어', '수입자동차', '국산신차직영부품/정비업소', \n",
        "             '국산신차직영부품/정비업소', '자동차서비스(회원제형태)', '카인테리어', '기타자동차서비스', '이륜차판매', '자동차정비']:\n",
        "    a = '자동차'\n",
        "  elif x in ['서양음식', '중국음식', '일식회집', '일반한식', '한정식', '기타건강식', '위탁급식업', '미곡상', '인삼제품', '건강식품(회원제형태)', '갈비전문점',\n",
        "             '주점', '단란주점', '기타음료식품', '유흥주점', '칵테일바', '농축수산가공품', '홍삼제품']:\n",
        "    a = 'F&B'\n",
        "  elif x in ['1급호텔', '기타숙박업', '2급호텔', '특급호텔', '콘도']:\n",
        "    a = '숙박'\n",
        "  elif x in ['헬스크럽']:\n",
        "    a = '피트니스'\n",
        "  elif x in ['기타레져', '스포츠레져용품', '레져업소(회원제형태)', '스크린골프', '골프연습장', '골프용품', '문화취미기타', '테니스장', '볼링장', '수영장',\n",
        "             '영화관', '스키장', '레져용품수리', '종합레져타운', '카지노', '수족관', '티켓', '화방표구점', '골프경기장', '기타레져업', '노래방', '당구장',\n",
        "             '관광여행']:\n",
        "    a = '문화&오락'\n",
        "  elif x in ['부동산중개/임대', '부동산분양', '손해보험', '생명보험', '기타보험', 'P2P송금']:\n",
        "    a = '금융&부동산'\n",
        "  elif x in ['기타의류', '스포츠의류', '아동의류', '와이셔츠/타이', '맞춤복점', '정장', '옷감직물', '내의판매점', '기타직물', '양품점', '캐쥬얼의류', \n",
        "             '단체복']:\n",
        "    a = '의류'\n",
        "  elif x in ['농축수산품', '기타건축자재', '기계공구', '화원', '비영리', '사무서비스', '기타대인서비스', '기타사무용품', '출판인쇄물', '기타유통업',\n",
        "             '종합용역', '조세서비스(특약)', '조세서비스', '기타전문점', '기타회원제형태업소4', '법률회계서비스(법인)', '회원제형태업소4', \n",
        "             '법률회계서비스(법인)', '혼례서비스', '법률회계서비스(개인)', '전자(상우회)', '기타용역서비스', '보일러펌프샷시', '과학기자재', '기념품점',\n",
        "             '성인용품점', '비씨카드정산용(할인)', '기타수리서비스', '신변잡화수리', '비영리/비대상', '장례서비스', '기타회원제형태업소1', '기타회원제형태업소2',\n",
        "             '기타회원제형태업소3', '보관창고업', '냉열기기', '기타광학품', '유리', '공공요금/대상', '사무서비스(회원제형태)', '견인서비스', '사업자미등록개인',\n",
        "             '기타비영리유통', '중장비수리', '외국인전용가맹점', '기타회원제형태업소5', '골동품점', '혼수전문점', '기타농업관련', '자체물품대금', '총포류판매',\n",
        "             '비료/농약/사료/종자', '공공요금', '농기계', '건축요업품', '미용재료', '페인트', '윤활유전문판매', '전자상거래상품권전문판매', '전자상거래상품권',\n",
        "             '상품권전문판매', 'PG상품권', '기타연료', '유류판매']:\n",
        "    a = '기타'\n",
        "  else:\n",
        "    a = '라이프스타일'\n",
        "  return a"
      ],
      "execution_count": null,
      "outputs": []
    },
    {
      "cell_type": "code",
      "metadata": {
        "id": "NbfP3z84Tl-I"
      },
      "source": [
        "# 업계 열 생성\n",
        "df_del['업계'] = df.업종명.apply(sort_induty)"
      ],
      "execution_count": null,
      "outputs": []
    },
    {
      "cell_type": "code",
      "metadata": {
        "id": "FECRTCh1TlXp",
        "outputId": "3fbbf6bc-5e0f-4201-d421-7c87b5ca927f",
        "colab": {
          "base_uri": "https://localhost:8080/",
          "height": 202
        }
      },
      "source": [
        "df_del.head()"
      ],
      "execution_count": null,
      "outputs": [
        {
          "output_type": "execute_result",
          "data": {
            "text/html": [
              "<div>\n",
              "<style scoped>\n",
              "    .dataframe tbody tr th:only-of-type {\n",
              "        vertical-align: middle;\n",
              "    }\n",
              "\n",
              "    .dataframe tbody tr th {\n",
              "        vertical-align: top;\n",
              "    }\n",
              "\n",
              "    .dataframe thead th {\n",
              "        text-align: right;\n",
              "    }\n",
              "</style>\n",
              "<table border=\"1\" class=\"dataframe\">\n",
              "  <thead>\n",
              "    <tr style=\"text-align: right;\">\n",
              "      <th></th>\n",
              "      <th>날짜</th>\n",
              "      <th>업종코드</th>\n",
              "      <th>업종명</th>\n",
              "      <th>시군구</th>\n",
              "      <th>판매건수</th>\n",
              "      <th>매출액</th>\n",
              "      <th>유동인구합</th>\n",
              "      <th>업계</th>\n",
              "    </tr>\n",
              "  </thead>\n",
              "  <tbody>\n",
              "    <tr>\n",
              "      <th>0</th>\n",
              "      <td>2020-01-04</td>\n",
              "      <td>1001</td>\n",
              "      <td>특급호텔</td>\n",
              "      <td>강남구</td>\n",
              "      <td>549</td>\n",
              "      <td>146315331</td>\n",
              "      <td>4268654</td>\n",
              "      <td>숙박</td>\n",
              "    </tr>\n",
              "    <tr>\n",
              "      <th>1</th>\n",
              "      <td>2020-01-04</td>\n",
              "      <td>1001</td>\n",
              "      <td>특급호텔</td>\n",
              "      <td>중구</td>\n",
              "      <td>928</td>\n",
              "      <td>239811377</td>\n",
              "      <td>1669677</td>\n",
              "      <td>숙박</td>\n",
              "    </tr>\n",
              "    <tr>\n",
              "      <th>2</th>\n",
              "      <td>2020-01-04</td>\n",
              "      <td>1002</td>\n",
              "      <td>1급호텔</td>\n",
              "      <td>중구</td>\n",
              "      <td>38</td>\n",
              "      <td>6941145</td>\n",
              "      <td>1669677</td>\n",
              "      <td>숙박</td>\n",
              "    </tr>\n",
              "    <tr>\n",
              "      <th>3</th>\n",
              "      <td>2020-01-04</td>\n",
              "      <td>1020</td>\n",
              "      <td>기타숙박업</td>\n",
              "      <td>강남구</td>\n",
              "      <td>444</td>\n",
              "      <td>57200876</td>\n",
              "      <td>4268654</td>\n",
              "      <td>숙박</td>\n",
              "    </tr>\n",
              "    <tr>\n",
              "      <th>4</th>\n",
              "      <td>2020-01-04</td>\n",
              "      <td>1020</td>\n",
              "      <td>기타숙박업</td>\n",
              "      <td>강동구</td>\n",
              "      <td>180</td>\n",
              "      <td>7928000</td>\n",
              "      <td>2425402</td>\n",
              "      <td>숙박</td>\n",
              "    </tr>\n",
              "  </tbody>\n",
              "</table>\n",
              "</div>"
            ],
            "text/plain": [
              "          날짜  업종코드    업종명  시군구  판매건수        매출액    유동인구합  업계\n",
              "0 2020-01-04  1001   특급호텔  강남구   549  146315331  4268654  숙박\n",
              "1 2020-01-04  1001   특급호텔   중구   928  239811377  1669677  숙박\n",
              "2 2020-01-04  1002   1급호텔   중구    38    6941145  1669677  숙박\n",
              "3 2020-01-04  1020  기타숙박업  강남구   444   57200876  4268654  숙박\n",
              "4 2020-01-04  1020  기타숙박업  강동구   180    7928000  2425402  숙박"
            ]
          },
          "metadata": {
            "tags": []
          },
          "execution_count": 97
        }
      ]
    },
    {
      "cell_type": "code",
      "metadata": {
        "id": "CDhn9SNLT6T7",
        "outputId": "6be488b7-8b9d-47e3-cfff-604cbf0b979b",
        "colab": {
          "base_uri": "https://localhost:8080/",
          "height": 52
        }
      },
      "source": [
        "# 업계 분류 확인\n",
        "df_del.업계.unique()"
      ],
      "execution_count": null,
      "outputs": [
        {
          "output_type": "execute_result",
          "data": {
            "text/plain": [
              "array(['숙박', '이동수단', '문화&오락', '라이프스타일', '피트니스', '기타', 'IT', 'F&B',\n",
              "       '비대면쇼핑', '의류', '교육', '자동차', '메디컬', '패션&뷰티', '금융&부동산'], dtype=object)"
            ]
          },
          "metadata": {
            "tags": []
          },
          "execution_count": 98
        }
      ]
    },
    {
      "cell_type": "code",
      "metadata": {
        "id": "DwbPlnD0YiRd",
        "outputId": "32bab14a-541e-435c-f9f5-1d11910313a8",
        "colab": {
          "base_uri": "https://localhost:8080/",
          "height": 277
        }
      },
      "source": [
        "df_del.info()"
      ],
      "execution_count": null,
      "outputs": [
        {
          "output_type": "stream",
          "text": [
            "<class 'pandas.core.frame.DataFrame'>\n",
            "Int64Index: 474854 entries, 0 to 573905\n",
            "Data columns (total 8 columns):\n",
            " #   Column  Non-Null Count   Dtype         \n",
            "---  ------  --------------   -----         \n",
            " 0   날짜      474854 non-null  datetime64[ns]\n",
            " 1   업종코드    474854 non-null  int64         \n",
            " 2   업종명     474854 non-null  object        \n",
            " 3   시군구     474854 non-null  object        \n",
            " 4   판매건수    474854 non-null  int64         \n",
            " 5   매출액     474854 non-null  int64         \n",
            " 6   유동인구합   474854 non-null  int64         \n",
            " 7   업계      474854 non-null  object        \n",
            "dtypes: datetime64[ns](1), int64(4), object(3)\n",
            "memory usage: 32.6+ MB\n"
          ],
          "name": "stdout"
        }
      ]
    },
    {
      "cell_type": "code",
      "metadata": {
        "id": "mzxDwBR6UXEN",
        "outputId": "327aae89-4f73-453b-a553-14dca7b52037",
        "colab": {
          "base_uri": "https://localhost:8080/",
          "height": 202
        }
      },
      "source": [
        "df_del.head()"
      ],
      "execution_count": null,
      "outputs": [
        {
          "output_type": "execute_result",
          "data": {
            "text/html": [
              "<div>\n",
              "<style scoped>\n",
              "    .dataframe tbody tr th:only-of-type {\n",
              "        vertical-align: middle;\n",
              "    }\n",
              "\n",
              "    .dataframe tbody tr th {\n",
              "        vertical-align: top;\n",
              "    }\n",
              "\n",
              "    .dataframe thead th {\n",
              "        text-align: right;\n",
              "    }\n",
              "</style>\n",
              "<table border=\"1\" class=\"dataframe\">\n",
              "  <thead>\n",
              "    <tr style=\"text-align: right;\">\n",
              "      <th></th>\n",
              "      <th>날짜</th>\n",
              "      <th>업종코드</th>\n",
              "      <th>업종명</th>\n",
              "      <th>시군구</th>\n",
              "      <th>판매건수</th>\n",
              "      <th>매출액</th>\n",
              "      <th>유동인구합</th>\n",
              "      <th>업계</th>\n",
              "    </tr>\n",
              "  </thead>\n",
              "  <tbody>\n",
              "    <tr>\n",
              "      <th>0</th>\n",
              "      <td>2020-01-04</td>\n",
              "      <td>1001</td>\n",
              "      <td>특급호텔</td>\n",
              "      <td>강남구</td>\n",
              "      <td>549</td>\n",
              "      <td>146315331</td>\n",
              "      <td>4268654</td>\n",
              "      <td>숙박</td>\n",
              "    </tr>\n",
              "    <tr>\n",
              "      <th>1</th>\n",
              "      <td>2020-01-04</td>\n",
              "      <td>1001</td>\n",
              "      <td>특급호텔</td>\n",
              "      <td>중구</td>\n",
              "      <td>928</td>\n",
              "      <td>239811377</td>\n",
              "      <td>1669677</td>\n",
              "      <td>숙박</td>\n",
              "    </tr>\n",
              "    <tr>\n",
              "      <th>2</th>\n",
              "      <td>2020-01-04</td>\n",
              "      <td>1002</td>\n",
              "      <td>1급호텔</td>\n",
              "      <td>중구</td>\n",
              "      <td>38</td>\n",
              "      <td>6941145</td>\n",
              "      <td>1669677</td>\n",
              "      <td>숙박</td>\n",
              "    </tr>\n",
              "    <tr>\n",
              "      <th>3</th>\n",
              "      <td>2020-01-04</td>\n",
              "      <td>1020</td>\n",
              "      <td>기타숙박업</td>\n",
              "      <td>강남구</td>\n",
              "      <td>444</td>\n",
              "      <td>57200876</td>\n",
              "      <td>4268654</td>\n",
              "      <td>숙박</td>\n",
              "    </tr>\n",
              "    <tr>\n",
              "      <th>4</th>\n",
              "      <td>2020-01-04</td>\n",
              "      <td>1020</td>\n",
              "      <td>기타숙박업</td>\n",
              "      <td>강동구</td>\n",
              "      <td>180</td>\n",
              "      <td>7928000</td>\n",
              "      <td>2425402</td>\n",
              "      <td>숙박</td>\n",
              "    </tr>\n",
              "  </tbody>\n",
              "</table>\n",
              "</div>"
            ],
            "text/plain": [
              "          날짜  업종코드    업종명  시군구  판매건수        매출액    유동인구합  업계\n",
              "0 2020-01-04  1001   특급호텔  강남구   549  146315331  4268654  숙박\n",
              "1 2020-01-04  1001   특급호텔   중구   928  239811377  1669677  숙박\n",
              "2 2020-01-04  1002   1급호텔   중구    38    6941145  1669677  숙박\n",
              "3 2020-01-04  1020  기타숙박업  강남구   444   57200876  4268654  숙박\n",
              "4 2020-01-04  1020  기타숙박업  강동구   180    7928000  2425402  숙박"
            ]
          },
          "metadata": {
            "tags": []
          },
          "execution_count": 100
        }
      ]
    },
    {
      "cell_type": "code",
      "metadata": {
        "id": "DRLJD9L4UZt-"
      },
      "source": [
        "# 업종코드 제거\n",
        "df_del.drop('업종코드', axis = 1, inplace = True)"
      ],
      "execution_count": null,
      "outputs": []
    },
    {
      "cell_type": "code",
      "metadata": {
        "id": "rBM_RszJUdrJ",
        "outputId": "8031609a-1c9d-4692-f496-a141bf786253",
        "colab": {
          "base_uri": "https://localhost:8080/",
          "height": 202
        }
      },
      "source": [
        "df_del.head()"
      ],
      "execution_count": null,
      "outputs": [
        {
          "output_type": "execute_result",
          "data": {
            "text/html": [
              "<div>\n",
              "<style scoped>\n",
              "    .dataframe tbody tr th:only-of-type {\n",
              "        vertical-align: middle;\n",
              "    }\n",
              "\n",
              "    .dataframe tbody tr th {\n",
              "        vertical-align: top;\n",
              "    }\n",
              "\n",
              "    .dataframe thead th {\n",
              "        text-align: right;\n",
              "    }\n",
              "</style>\n",
              "<table border=\"1\" class=\"dataframe\">\n",
              "  <thead>\n",
              "    <tr style=\"text-align: right;\">\n",
              "      <th></th>\n",
              "      <th>날짜</th>\n",
              "      <th>업종명</th>\n",
              "      <th>시군구</th>\n",
              "      <th>판매건수</th>\n",
              "      <th>매출액</th>\n",
              "      <th>유동인구합</th>\n",
              "      <th>업계</th>\n",
              "    </tr>\n",
              "  </thead>\n",
              "  <tbody>\n",
              "    <tr>\n",
              "      <th>0</th>\n",
              "      <td>2020-01-04</td>\n",
              "      <td>특급호텔</td>\n",
              "      <td>강남구</td>\n",
              "      <td>549</td>\n",
              "      <td>146315331</td>\n",
              "      <td>4268654</td>\n",
              "      <td>숙박</td>\n",
              "    </tr>\n",
              "    <tr>\n",
              "      <th>1</th>\n",
              "      <td>2020-01-04</td>\n",
              "      <td>특급호텔</td>\n",
              "      <td>중구</td>\n",
              "      <td>928</td>\n",
              "      <td>239811377</td>\n",
              "      <td>1669677</td>\n",
              "      <td>숙박</td>\n",
              "    </tr>\n",
              "    <tr>\n",
              "      <th>2</th>\n",
              "      <td>2020-01-04</td>\n",
              "      <td>1급호텔</td>\n",
              "      <td>중구</td>\n",
              "      <td>38</td>\n",
              "      <td>6941145</td>\n",
              "      <td>1669677</td>\n",
              "      <td>숙박</td>\n",
              "    </tr>\n",
              "    <tr>\n",
              "      <th>3</th>\n",
              "      <td>2020-01-04</td>\n",
              "      <td>기타숙박업</td>\n",
              "      <td>강남구</td>\n",
              "      <td>444</td>\n",
              "      <td>57200876</td>\n",
              "      <td>4268654</td>\n",
              "      <td>숙박</td>\n",
              "    </tr>\n",
              "    <tr>\n",
              "      <th>4</th>\n",
              "      <td>2020-01-04</td>\n",
              "      <td>기타숙박업</td>\n",
              "      <td>강동구</td>\n",
              "      <td>180</td>\n",
              "      <td>7928000</td>\n",
              "      <td>2425402</td>\n",
              "      <td>숙박</td>\n",
              "    </tr>\n",
              "  </tbody>\n",
              "</table>\n",
              "</div>"
            ],
            "text/plain": [
              "          날짜    업종명  시군구  판매건수        매출액    유동인구합  업계\n",
              "0 2020-01-04   특급호텔  강남구   549  146315331  4268654  숙박\n",
              "1 2020-01-04   특급호텔   중구   928  239811377  1669677  숙박\n",
              "2 2020-01-04   1급호텔   중구    38    6941145  1669677  숙박\n",
              "3 2020-01-04  기타숙박업  강남구   444   57200876  4268654  숙박\n",
              "4 2020-01-04  기타숙박업  강동구   180    7928000  2425402  숙박"
            ]
          },
          "metadata": {
            "tags": []
          },
          "execution_count": 102
        }
      ]
    },
    {
      "cell_type": "markdown",
      "metadata": {
        "id": "nXvccn245Sn1"
      },
      "source": [
        "# 코로나 데이터 결합"
      ]
    },
    {
      "cell_type": "code",
      "metadata": {
        "id": "baG3tZ_V8Gzp"
      },
      "source": [
        "# 코로나 데이터\n",
        "covid = pd.read_csv('monthly_covid19_seoul_long_0806.csv')"
      ],
      "execution_count": null,
      "outputs": []
    },
    {
      "cell_type": "code",
      "metadata": {
        "id": "_xRaoFzD6cDp",
        "outputId": "aabefb0f-7ca2-4907-c369-88f2d2562f49",
        "colab": {
          "base_uri": "https://localhost:8080/",
          "height": 202
        }
      },
      "source": [
        "covid.head()"
      ],
      "execution_count": null,
      "outputs": [
        {
          "output_type": "execute_result",
          "data": {
            "text/html": [
              "<div>\n",
              "<style scoped>\n",
              "    .dataframe tbody tr th:only-of-type {\n",
              "        vertical-align: middle;\n",
              "    }\n",
              "\n",
              "    .dataframe tbody tr th {\n",
              "        vertical-align: top;\n",
              "    }\n",
              "\n",
              "    .dataframe thead th {\n",
              "        text-align: right;\n",
              "    }\n",
              "</style>\n",
              "<table border=\"1\" class=\"dataframe\">\n",
              "  <thead>\n",
              "    <tr style=\"text-align: right;\">\n",
              "      <th></th>\n",
              "      <th>날짜</th>\n",
              "      <th>시군구</th>\n",
              "      <th>확진자수</th>\n",
              "    </tr>\n",
              "  </thead>\n",
              "  <tbody>\n",
              "    <tr>\n",
              "      <th>0</th>\n",
              "      <td>2020-01-24</td>\n",
              "      <td>강남구</td>\n",
              "      <td>0</td>\n",
              "    </tr>\n",
              "    <tr>\n",
              "      <th>1</th>\n",
              "      <td>2020-01-24</td>\n",
              "      <td>강동구</td>\n",
              "      <td>0</td>\n",
              "    </tr>\n",
              "    <tr>\n",
              "      <th>2</th>\n",
              "      <td>2020-01-24</td>\n",
              "      <td>강북구</td>\n",
              "      <td>0</td>\n",
              "    </tr>\n",
              "    <tr>\n",
              "      <th>3</th>\n",
              "      <td>2020-01-24</td>\n",
              "      <td>강서구</td>\n",
              "      <td>1</td>\n",
              "    </tr>\n",
              "    <tr>\n",
              "      <th>4</th>\n",
              "      <td>2020-01-24</td>\n",
              "      <td>관악구</td>\n",
              "      <td>0</td>\n",
              "    </tr>\n",
              "  </tbody>\n",
              "</table>\n",
              "</div>"
            ],
            "text/plain": [
              "           날짜  시군구  확진자수\n",
              "0  2020-01-24  강남구     0\n",
              "1  2020-01-24  강동구     0\n",
              "2  2020-01-24  강북구     0\n",
              "3  2020-01-24  강서구     1\n",
              "4  2020-01-24  관악구     0"
            ]
          },
          "metadata": {
            "tags": []
          },
          "execution_count": 67
        }
      ]
    },
    {
      "cell_type": "code",
      "metadata": {
        "id": "eg2qJTpZ7fLg",
        "outputId": "6e2c5040-0dad-4331-9671-32d2ca4c7855",
        "colab": {
          "base_uri": "https://localhost:8080/",
          "height": 191
        }
      },
      "source": [
        "covid.info()"
      ],
      "execution_count": null,
      "outputs": [
        {
          "output_type": "stream",
          "text": [
            "<class 'pandas.core.frame.DataFrame'>\n",
            "RangeIndex: 2775 entries, 0 to 2774\n",
            "Data columns (total 3 columns):\n",
            " #   Column  Non-Null Count  Dtype         \n",
            "---  ------  --------------  -----         \n",
            " 0   날짜      2775 non-null   datetime64[ns]\n",
            " 1   시군구     2775 non-null   object        \n",
            " 2   확진자수    2775 non-null   int64         \n",
            "dtypes: datetime64[ns](1), int64(1), object(1)\n",
            "memory usage: 65.2+ KB\n"
          ],
          "name": "stdout"
        }
      ]
    },
    {
      "cell_type": "code",
      "metadata": {
        "id": "HvQaQTOr8BTY"
      },
      "source": [
        "# 날짜를 datetime으로 변환\n",
        "covid.날짜 = pd.to_datetime(covid.날짜)"
      ],
      "execution_count": null,
      "outputs": []
    },
    {
      "cell_type": "code",
      "metadata": {
        "id": "m9zo_w5r8PEa",
        "outputId": "4fc44592-c441-46a8-acd2-46acfbe4a9ef",
        "colab": {
          "base_uri": "https://localhost:8080/",
          "height": 191
        }
      },
      "source": [
        "covid.info()"
      ],
      "execution_count": null,
      "outputs": [
        {
          "output_type": "stream",
          "text": [
            "<class 'pandas.core.frame.DataFrame'>\n",
            "RangeIndex: 2775 entries, 0 to 2774\n",
            "Data columns (total 3 columns):\n",
            " #   Column  Non-Null Count  Dtype         \n",
            "---  ------  --------------  -----         \n",
            " 0   날짜      2775 non-null   datetime64[ns]\n",
            " 1   시군구     2775 non-null   object        \n",
            " 2   확진자수    2775 non-null   int64         \n",
            "dtypes: datetime64[ns](1), int64(1), object(1)\n",
            "memory usage: 65.2+ KB\n"
          ],
          "name": "stdout"
        }
      ]
    },
    {
      "cell_type": "markdown",
      "metadata": {
        "id": "Np6kUo6fTB15"
      },
      "source": [
        "# 카드 & 유동인구 데이터와 코로나 데이터 결합"
      ]
    },
    {
      "cell_type": "code",
      "metadata": {
        "id": "Bqj-4T7I6gtQ"
      },
      "source": [
        "# 카드유동인구 데이터와 코로나 데이터 결합\n",
        "card_covid = df_del.merge(covid, how = 'left')"
      ],
      "execution_count": null,
      "outputs": []
    },
    {
      "cell_type": "code",
      "metadata": {
        "id": "XbacR0Zt6yof",
        "outputId": "8856fe2e-f6e9-4434-f0d8-8be1108aca80",
        "colab": {
          "base_uri": "https://localhost:8080/",
          "height": 202
        }
      },
      "source": [
        "card_covid.head()"
      ],
      "execution_count": null,
      "outputs": [
        {
          "output_type": "execute_result",
          "data": {
            "text/html": [
              "<div>\n",
              "<style scoped>\n",
              "    .dataframe tbody tr th:only-of-type {\n",
              "        vertical-align: middle;\n",
              "    }\n",
              "\n",
              "    .dataframe tbody tr th {\n",
              "        vertical-align: top;\n",
              "    }\n",
              "\n",
              "    .dataframe thead th {\n",
              "        text-align: right;\n",
              "    }\n",
              "</style>\n",
              "<table border=\"1\" class=\"dataframe\">\n",
              "  <thead>\n",
              "    <tr style=\"text-align: right;\">\n",
              "      <th></th>\n",
              "      <th>날짜</th>\n",
              "      <th>업종명</th>\n",
              "      <th>시군구</th>\n",
              "      <th>판매건수</th>\n",
              "      <th>매출액</th>\n",
              "      <th>유동인구합</th>\n",
              "      <th>업계</th>\n",
              "      <th>확진자수</th>\n",
              "    </tr>\n",
              "  </thead>\n",
              "  <tbody>\n",
              "    <tr>\n",
              "      <th>0</th>\n",
              "      <td>2020-01-04</td>\n",
              "      <td>특급호텔</td>\n",
              "      <td>강남구</td>\n",
              "      <td>549</td>\n",
              "      <td>146315331</td>\n",
              "      <td>4268654</td>\n",
              "      <td>숙박</td>\n",
              "      <td>NaN</td>\n",
              "    </tr>\n",
              "    <tr>\n",
              "      <th>1</th>\n",
              "      <td>2020-01-04</td>\n",
              "      <td>특급호텔</td>\n",
              "      <td>중구</td>\n",
              "      <td>928</td>\n",
              "      <td>239811377</td>\n",
              "      <td>1669677</td>\n",
              "      <td>숙박</td>\n",
              "      <td>NaN</td>\n",
              "    </tr>\n",
              "    <tr>\n",
              "      <th>2</th>\n",
              "      <td>2020-01-04</td>\n",
              "      <td>1급호텔</td>\n",
              "      <td>중구</td>\n",
              "      <td>38</td>\n",
              "      <td>6941145</td>\n",
              "      <td>1669677</td>\n",
              "      <td>숙박</td>\n",
              "      <td>NaN</td>\n",
              "    </tr>\n",
              "    <tr>\n",
              "      <th>3</th>\n",
              "      <td>2020-01-04</td>\n",
              "      <td>기타숙박업</td>\n",
              "      <td>강남구</td>\n",
              "      <td>444</td>\n",
              "      <td>57200876</td>\n",
              "      <td>4268654</td>\n",
              "      <td>숙박</td>\n",
              "      <td>NaN</td>\n",
              "    </tr>\n",
              "    <tr>\n",
              "      <th>4</th>\n",
              "      <td>2020-01-04</td>\n",
              "      <td>기타숙박업</td>\n",
              "      <td>강동구</td>\n",
              "      <td>180</td>\n",
              "      <td>7928000</td>\n",
              "      <td>2425402</td>\n",
              "      <td>숙박</td>\n",
              "      <td>NaN</td>\n",
              "    </tr>\n",
              "  </tbody>\n",
              "</table>\n",
              "</div>"
            ],
            "text/plain": [
              "          날짜    업종명  시군구  판매건수        매출액    유동인구합  업계  확진자수\n",
              "0 2020-01-04   특급호텔  강남구   549  146315331  4268654  숙박   NaN\n",
              "1 2020-01-04   특급호텔   중구   928  239811377  1669677  숙박   NaN\n",
              "2 2020-01-04   1급호텔   중구    38    6941145  1669677  숙박   NaN\n",
              "3 2020-01-04  기타숙박업  강남구   444   57200876  4268654  숙박   NaN\n",
              "4 2020-01-04  기타숙박업  강동구   180    7928000  2425402  숙박   NaN"
            ]
          },
          "metadata": {
            "tags": []
          },
          "execution_count": 122
        }
      ]
    },
    {
      "cell_type": "code",
      "metadata": {
        "id": "YzWFEi2z-x1k",
        "outputId": "1c983468-990f-48d1-c696-4ac93defa15f",
        "colab": {
          "base_uri": "https://localhost:8080/",
          "height": 277
        }
      },
      "source": [
        "card_covid.info()"
      ],
      "execution_count": null,
      "outputs": [
        {
          "output_type": "stream",
          "text": [
            "<class 'pandas.core.frame.DataFrame'>\n",
            "Int64Index: 474854 entries, 0 to 474853\n",
            "Data columns (total 8 columns):\n",
            " #   Column  Non-Null Count   Dtype         \n",
            "---  ------  --------------   -----         \n",
            " 0   날짜      474854 non-null  datetime64[ns]\n",
            " 1   업종명     474854 non-null  object        \n",
            " 2   시군구     474854 non-null  object        \n",
            " 3   판매건수    474854 non-null  int64         \n",
            " 4   매출액     474854 non-null  int64         \n",
            " 5   유동인구합   474854 non-null  int64         \n",
            " 6   업계      474854 non-null  object        \n",
            " 7   확진자수    369292 non-null  float64       \n",
            "dtypes: datetime64[ns](1), float64(1), int64(3), object(3)\n",
            "memory usage: 52.6+ MB\n"
          ],
          "name": "stdout"
        }
      ]
    },
    {
      "cell_type": "code",
      "metadata": {
        "id": "NW00XHC48ljv"
      },
      "source": [
        "# 확진자수가 결측치인 값들 채우고 정수로 변환\n",
        "card_covid.확진자수 = card_covid.확진자수.fillna(0).astype(int)"
      ],
      "execution_count": null,
      "outputs": []
    },
    {
      "cell_type": "code",
      "metadata": {
        "id": "juQYSRF29bDM",
        "outputId": "d36c7246-fdbb-4970-9417-a8f325332c17",
        "colab": {
          "base_uri": "https://localhost:8080/",
          "height": 415
        }
      },
      "source": [
        "card_covid"
      ],
      "execution_count": null,
      "outputs": [
        {
          "output_type": "execute_result",
          "data": {
            "text/html": [
              "<div>\n",
              "<style scoped>\n",
              "    .dataframe tbody tr th:only-of-type {\n",
              "        vertical-align: middle;\n",
              "    }\n",
              "\n",
              "    .dataframe tbody tr th {\n",
              "        vertical-align: top;\n",
              "    }\n",
              "\n",
              "    .dataframe thead th {\n",
              "        text-align: right;\n",
              "    }\n",
              "</style>\n",
              "<table border=\"1\" class=\"dataframe\">\n",
              "  <thead>\n",
              "    <tr style=\"text-align: right;\">\n",
              "      <th></th>\n",
              "      <th>날짜</th>\n",
              "      <th>업종명</th>\n",
              "      <th>시군구</th>\n",
              "      <th>판매건수</th>\n",
              "      <th>매출액</th>\n",
              "      <th>유동인구합</th>\n",
              "      <th>업계</th>\n",
              "      <th>확진자수</th>\n",
              "    </tr>\n",
              "  </thead>\n",
              "  <tbody>\n",
              "    <tr>\n",
              "      <th>0</th>\n",
              "      <td>2020-01-04</td>\n",
              "      <td>특급호텔</td>\n",
              "      <td>강남구</td>\n",
              "      <td>549</td>\n",
              "      <td>146315331</td>\n",
              "      <td>4268654</td>\n",
              "      <td>숙박</td>\n",
              "      <td>0</td>\n",
              "    </tr>\n",
              "    <tr>\n",
              "      <th>1</th>\n",
              "      <td>2020-01-04</td>\n",
              "      <td>특급호텔</td>\n",
              "      <td>중구</td>\n",
              "      <td>928</td>\n",
              "      <td>239811377</td>\n",
              "      <td>1669677</td>\n",
              "      <td>숙박</td>\n",
              "      <td>0</td>\n",
              "    </tr>\n",
              "    <tr>\n",
              "      <th>2</th>\n",
              "      <td>2020-01-04</td>\n",
              "      <td>1급호텔</td>\n",
              "      <td>중구</td>\n",
              "      <td>38</td>\n",
              "      <td>6941145</td>\n",
              "      <td>1669677</td>\n",
              "      <td>숙박</td>\n",
              "      <td>0</td>\n",
              "    </tr>\n",
              "    <tr>\n",
              "      <th>3</th>\n",
              "      <td>2020-01-04</td>\n",
              "      <td>기타숙박업</td>\n",
              "      <td>강남구</td>\n",
              "      <td>444</td>\n",
              "      <td>57200876</td>\n",
              "      <td>4268654</td>\n",
              "      <td>숙박</td>\n",
              "      <td>0</td>\n",
              "    </tr>\n",
              "    <tr>\n",
              "      <th>4</th>\n",
              "      <td>2020-01-04</td>\n",
              "      <td>기타숙박업</td>\n",
              "      <td>강동구</td>\n",
              "      <td>180</td>\n",
              "      <td>7928000</td>\n",
              "      <td>2425402</td>\n",
              "      <td>숙박</td>\n",
              "      <td>0</td>\n",
              "    </tr>\n",
              "    <tr>\n",
              "      <th>...</th>\n",
              "      <td>...</td>\n",
              "      <td>...</td>\n",
              "      <td>...</td>\n",
              "      <td>...</td>\n",
              "      <td>...</td>\n",
              "      <td>...</td>\n",
              "      <td>...</td>\n",
              "      <td>...</td>\n",
              "    </tr>\n",
              "    <tr>\n",
              "      <th>474849</th>\n",
              "      <td>2020-06-14</td>\n",
              "      <td>기타전문점</td>\n",
              "      <td>용산구</td>\n",
              "      <td>185</td>\n",
              "      <td>2793400</td>\n",
              "      <td>1848525</td>\n",
              "      <td>기타</td>\n",
              "      <td>1</td>\n",
              "    </tr>\n",
              "    <tr>\n",
              "      <th>474850</th>\n",
              "      <td>2020-06-14</td>\n",
              "      <td>기타전문점</td>\n",
              "      <td>은평구</td>\n",
              "      <td>42</td>\n",
              "      <td>1630800</td>\n",
              "      <td>1436435</td>\n",
              "      <td>기타</td>\n",
              "      <td>1</td>\n",
              "    </tr>\n",
              "    <tr>\n",
              "      <th>474851</th>\n",
              "      <td>2020-06-14</td>\n",
              "      <td>기타전문점</td>\n",
              "      <td>종로구</td>\n",
              "      <td>208</td>\n",
              "      <td>5054760</td>\n",
              "      <td>1269669</td>\n",
              "      <td>기타</td>\n",
              "      <td>0</td>\n",
              "    </tr>\n",
              "    <tr>\n",
              "      <th>474852</th>\n",
              "      <td>2020-06-14</td>\n",
              "      <td>기타전문점</td>\n",
              "      <td>중구</td>\n",
              "      <td>119</td>\n",
              "      <td>4728850</td>\n",
              "      <td>1166980</td>\n",
              "      <td>기타</td>\n",
              "      <td>0</td>\n",
              "    </tr>\n",
              "    <tr>\n",
              "      <th>474853</th>\n",
              "      <td>2020-06-14</td>\n",
              "      <td>기타전문점</td>\n",
              "      <td>중랑구</td>\n",
              "      <td>44</td>\n",
              "      <td>1875000</td>\n",
              "      <td>1436522</td>\n",
              "      <td>기타</td>\n",
              "      <td>0</td>\n",
              "    </tr>\n",
              "  </tbody>\n",
              "</table>\n",
              "<p>474854 rows × 8 columns</p>\n",
              "</div>"
            ],
            "text/plain": [
              "               날짜    업종명  시군구  판매건수        매출액    유동인구합  업계  확진자수\n",
              "0      2020-01-04   특급호텔  강남구   549  146315331  4268654  숙박     0\n",
              "1      2020-01-04   특급호텔   중구   928  239811377  1669677  숙박     0\n",
              "2      2020-01-04   1급호텔   중구    38    6941145  1669677  숙박     0\n",
              "3      2020-01-04  기타숙박업  강남구   444   57200876  4268654  숙박     0\n",
              "4      2020-01-04  기타숙박업  강동구   180    7928000  2425402  숙박     0\n",
              "...           ...    ...  ...   ...        ...      ...  ..   ...\n",
              "474849 2020-06-14  기타전문점  용산구   185    2793400  1848525  기타     1\n",
              "474850 2020-06-14  기타전문점  은평구    42    1630800  1436435  기타     1\n",
              "474851 2020-06-14  기타전문점  종로구   208    5054760  1269669  기타     0\n",
              "474852 2020-06-14  기타전문점   중구   119    4728850  1166980  기타     0\n",
              "474853 2020-06-14  기타전문점  중랑구    44    1875000  1436522  기타     0\n",
              "\n",
              "[474854 rows x 8 columns]"
            ]
          },
          "metadata": {
            "tags": []
          },
          "execution_count": 131
        }
      ]
    },
    {
      "cell_type": "code",
      "metadata": {
        "id": "be7NE02BBfwF",
        "outputId": "2589a9db-31ac-4af2-e350-25d42c2d2165",
        "colab": {
          "base_uri": "https://localhost:8080/",
          "height": 415
        }
      },
      "source": [
        "# 확진자수/유동인구 계산 예시\n",
        "df1 = card_covid.groupby(['날짜', '시군구'])['확진자수'].first().reset_index()\n",
        "df1[(df1.날짜 > '2020-01-24') & (df1.날짜 < '2020-02-01')]"
      ],
      "execution_count": null,
      "outputs": [
        {
          "output_type": "execute_result",
          "data": {
            "text/html": [
              "<div>\n",
              "<style scoped>\n",
              "    .dataframe tbody tr th:only-of-type {\n",
              "        vertical-align: middle;\n",
              "    }\n",
              "\n",
              "    .dataframe tbody tr th {\n",
              "        vertical-align: top;\n",
              "    }\n",
              "\n",
              "    .dataframe thead th {\n",
              "        text-align: right;\n",
              "    }\n",
              "</style>\n",
              "<table border=\"1\" class=\"dataframe\">\n",
              "  <thead>\n",
              "    <tr style=\"text-align: right;\">\n",
              "      <th></th>\n",
              "      <th>날짜</th>\n",
              "      <th>시군구</th>\n",
              "      <th>확진자수</th>\n",
              "    </tr>\n",
              "  </thead>\n",
              "  <tbody>\n",
              "    <tr>\n",
              "      <th>525</th>\n",
              "      <td>2020-01-25</td>\n",
              "      <td>강남구</td>\n",
              "      <td>0</td>\n",
              "    </tr>\n",
              "    <tr>\n",
              "      <th>526</th>\n",
              "      <td>2020-01-25</td>\n",
              "      <td>강동구</td>\n",
              "      <td>0</td>\n",
              "    </tr>\n",
              "    <tr>\n",
              "      <th>527</th>\n",
              "      <td>2020-01-25</td>\n",
              "      <td>강북구</td>\n",
              "      <td>0</td>\n",
              "    </tr>\n",
              "    <tr>\n",
              "      <th>528</th>\n",
              "      <td>2020-01-25</td>\n",
              "      <td>강서구</td>\n",
              "      <td>0</td>\n",
              "    </tr>\n",
              "    <tr>\n",
              "      <th>529</th>\n",
              "      <td>2020-01-25</td>\n",
              "      <td>관악구</td>\n",
              "      <td>0</td>\n",
              "    </tr>\n",
              "    <tr>\n",
              "      <th>...</th>\n",
              "      <td>...</td>\n",
              "      <td>...</td>\n",
              "      <td>...</td>\n",
              "    </tr>\n",
              "    <tr>\n",
              "      <th>695</th>\n",
              "      <td>2020-01-31</td>\n",
              "      <td>용산구</td>\n",
              "      <td>0</td>\n",
              "    </tr>\n",
              "    <tr>\n",
              "      <th>696</th>\n",
              "      <td>2020-01-31</td>\n",
              "      <td>은평구</td>\n",
              "      <td>0</td>\n",
              "    </tr>\n",
              "    <tr>\n",
              "      <th>697</th>\n",
              "      <td>2020-01-31</td>\n",
              "      <td>종로구</td>\n",
              "      <td>2</td>\n",
              "    </tr>\n",
              "    <tr>\n",
              "      <th>698</th>\n",
              "      <td>2020-01-31</td>\n",
              "      <td>중구</td>\n",
              "      <td>0</td>\n",
              "    </tr>\n",
              "    <tr>\n",
              "      <th>699</th>\n",
              "      <td>2020-01-31</td>\n",
              "      <td>중랑구</td>\n",
              "      <td>0</td>\n",
              "    </tr>\n",
              "  </tbody>\n",
              "</table>\n",
              "<p>175 rows × 3 columns</p>\n",
              "</div>"
            ],
            "text/plain": [
              "            날짜  시군구  확진자수\n",
              "525 2020-01-25  강남구     0\n",
              "526 2020-01-25  강동구     0\n",
              "527 2020-01-25  강북구     0\n",
              "528 2020-01-25  강서구     0\n",
              "529 2020-01-25  관악구     0\n",
              "..         ...  ...   ...\n",
              "695 2020-01-31  용산구     0\n",
              "696 2020-01-31  은평구     0\n",
              "697 2020-01-31  종로구     2\n",
              "698 2020-01-31   중구     0\n",
              "699 2020-01-31  중랑구     0\n",
              "\n",
              "[175 rows x 3 columns]"
            ]
          },
          "metadata": {
            "tags": []
          },
          "execution_count": 139
        }
      ]
    },
    {
      "cell_type": "code",
      "metadata": {
        "id": "nB00PBnv-880"
      },
      "source": [
        "# 파일 저장\n",
        "card_covid.to_csv('인구카드코로나.csv', index = False)"
      ],
      "execution_count": null,
      "outputs": []
    },
    {
      "cell_type": "code",
      "metadata": {
        "id": "1lxAVC4W_yKn"
      },
      "source": [
        ""
      ],
      "execution_count": null,
      "outputs": []
    },
    {
      "cell_type": "code",
      "metadata": {
        "id": "0vtOObO0mRA2"
      },
      "source": [
        ""
      ],
      "execution_count": null,
      "outputs": []
    }
  ]
}